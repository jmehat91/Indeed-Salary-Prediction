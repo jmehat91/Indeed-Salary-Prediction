{
 "cells": [
  {
   "cell_type": "markdown",
   "metadata": {
    "focus": false,
    "id": "69b9a648-bcc7-490d-9f9b-ea244d156bd6"
   },
   "source": [
    "<img src=\"http://imgur.com/1ZcRyrc.png\" style=\"float: left; margin: 15px; height: 80px\">\n",
    "\n",
    "\n",
    "# Web Scraping for Indeed.com and Predicting Salaries"
   ]
  },
  {
   "cell_type": "markdown",
   "metadata": {},
   "source": [
    "### Business Case Overview\n",
    "\n",
    "You're working as a data scientist for a contracting firm that's rapidly expanding. Now that they have their most valuable employee (you!), they need to leverage data to win more contracts. Your firm offers technology and scientific solutions and wants to be competitive in the hiring market. Your principal wants you to\n",
    "\n",
    "   - determine the industry factors that are most important in predicting the salary amounts for these data.\n",
    "\n",
    "To limit the scope, your principal has suggested that you *focus on data-related job postings*, e.g. data scientist, data analyst, research scientist, business intelligence, and any others you might think of. You may also want to decrease the scope by *limiting your search to a single region.*\n",
    "\n",
    "Hint: Aggregators like [Indeed.com](https://www.indeed.com) regularly pool job postings from a variety of markets and industries.\n",
    "\n",
    "**Goal:** Scrape your own data from a job aggregation tool like Indeed.com in order to collect the data to best answer this question.\n",
    "\n",
    "---\n",
    "\n",
    "### Directions\n",
    "\n",
    "In this project you will be leveraging a variety of skills. The first will be to use the web-scraping and/or API techniques you've learned to collect data on data jobs from Indeed.com or another aggregator. Once you have collected and cleaned the data, you will use it to address the question above."
   ]
  },
  {
   "cell_type": "markdown",
   "metadata": {},
   "source": [
    "### Factors that impact salary\n",
    "\n",
    "To predict salary the most appropriate approach would be a regression model.\n",
    "Here instead we just want to estimate which factors (like location, job title, job level, industry sector) lead to high or low salary and work with a classification model. To do so, split the salary into two groups of high and low salary, for example by choosing the median salary as a threshold (in principle you could choose any single or multiple splitting points).\n",
    "\n",
    "Use all the skills you have learned so far to build a predictive model.\n",
    "Whatever you decide to use, the most important thing is to justify your choices and interpret your results. *Communication of your process is key.* Note that most listings **DO NOT** come with salary information. You'll need to be able to extrapolate or predict the expected salaries for these listings."
   ]
  },
  {
   "cell_type": "markdown",
   "metadata": {
    "focus": false,
    "id": "243e949e-2742-40af-872e-fec475fd306c"
   },
   "source": [
    "### Load in the the data of scraped salaries"
   ]
  },
  {
   "cell_type": "code",
   "execution_count": 2,
   "metadata": {
    "ExecuteTime": {
     "end_time": "2022-01-18T08:15:44.444982Z",
     "start_time": "2022-01-18T08:15:44.401276Z"
    },
    "focus": false,
    "id": "588f9845-6143-4bcc-bfd1-85d45b79303d"
   },
   "outputs": [],
   "source": [
    "## YOUR CODE HERE\n",
    "df = pd.read_csv('web scrapes/final_data.csv')"
   ]
  },
  {
   "cell_type": "code",
   "execution_count": 3,
   "metadata": {
    "ExecuteTime": {
     "end_time": "2022-01-18T08:15:44.911438Z",
     "start_time": "2022-01-18T08:15:44.906574Z"
    }
   },
   "outputs": [],
   "source": [
    "df.drop(columns='Unnamed: 0', axis=1, inplace=True)"
   ]
  },
  {
   "cell_type": "code",
   "execution_count": 4,
   "metadata": {
    "ExecuteTime": {
     "end_time": "2022-01-18T08:15:59.891066Z",
     "start_time": "2022-01-18T08:15:59.880707Z"
    },
    "focus": false,
    "id": "87a17d3d-b7f4-4747-9f75-f9af1d18a174"
   },
   "outputs": [
    {
     "data": {
      "text/plain": [
       "low     0.500276\n",
       "high    0.499724\n",
       "Name: sal_hilo, dtype: float64"
      ]
     },
     "execution_count": 4,
     "metadata": {},
     "output_type": "execute_result"
    }
   ],
   "source": [
    "## Find Baseline accuracy\n",
    "df.sal_hilo.value_counts(normalize=True)"
   ]
  },
  {
   "cell_type": "markdown",
   "metadata": {
    "focus": false,
    "id": "4fb29de2-5b98-474c-a4ad-5170b72b9aea"
   },
   "source": [
    "### Create a classification model to predict High/Low salary. \n",
    "\n",
    "\n",
    "- Start by ONLY using the location as a feature.\n",
    "- Use at least two different classifiers you find suitable.\n",
    "- Remember that scaling your features might be necessary.\n",
    "- Display the coefficients/feature importances and write a short summary of what they mean.\n",
    "- Create a few new variables in your dataframe to represent interesting features of a job title (e.g. whether 'Senior' or 'Manager' is in the title).\n",
    "- Incorporate other text features from the title or summary that you believe will predict the salary.\n",
    "- Then build new classification models including also those features. Do they add any value?\n",
    "- Tune your models by testing parameter ranges, regularization strengths, etc. Discuss how that affects your models.\n",
    "- Discuss model coefficients or feature importances as applicable."
   ]
  },
  {
   "cell_type": "code",
   "execution_count": 5,
   "metadata": {
    "ExecuteTime": {
     "end_time": "2022-01-18T08:16:06.535011Z",
     "start_time": "2022-01-18T08:16:06.506244Z"
    }
   },
   "outputs": [
    {
     "data": {
      "text/html": [
       "<div>\n",
       "<style scoped>\n",
       "    .dataframe tbody tr th:only-of-type {\n",
       "        vertical-align: middle;\n",
       "    }\n",
       "\n",
       "    .dataframe tbody tr th {\n",
       "        vertical-align: top;\n",
       "    }\n",
       "\n",
       "    .dataframe thead th {\n",
       "        text-align: right;\n",
       "    }\n",
       "</style>\n",
       "<table border=\"1\" class=\"dataframe\">\n",
       "  <thead>\n",
       "    <tr style=\"text-align: right;\">\n",
       "      <th></th>\n",
       "      <th>title</th>\n",
       "      <th>company</th>\n",
       "      <th>City</th>\n",
       "      <th>State</th>\n",
       "      <th>rate</th>\n",
       "      <th>salary_avg</th>\n",
       "      <th>sal_hilo</th>\n",
       "    </tr>\n",
       "  </thead>\n",
       "  <tbody>\n",
       "    <tr>\n",
       "      <th>162</th>\n",
       "      <td>SALES ANALYST</td>\n",
       "      <td>Planterra Foods</td>\n",
       "      <td>Lafayette</td>\n",
       "      <td>CO</td>\n",
       "      <td>year</td>\n",
       "      <td>60000.0</td>\n",
       "      <td>low</td>\n",
       "    </tr>\n",
       "    <tr>\n",
       "      <th>242</th>\n",
       "      <td>Business Analyst</td>\n",
       "      <td>NIM Group</td>\n",
       "      <td>Brighton</td>\n",
       "      <td>CO</td>\n",
       "      <td>year</td>\n",
       "      <td>63000.0</td>\n",
       "      <td>low</td>\n",
       "    </tr>\n",
       "    <tr>\n",
       "      <th>249</th>\n",
       "      <td>Supply Chain Analyst</td>\n",
       "      <td>SRP Companies</td>\n",
       "      <td>Castle Rock</td>\n",
       "      <td>CO</td>\n",
       "      <td>year</td>\n",
       "      <td>95000.0</td>\n",
       "      <td>high</td>\n",
       "    </tr>\n",
       "    <tr>\n",
       "      <th>263</th>\n",
       "      <td>Business Analyst</td>\n",
       "      <td>Chuck Latham Associates</td>\n",
       "      <td>Parker</td>\n",
       "      <td>CO</td>\n",
       "      <td>year</td>\n",
       "      <td>65000.0</td>\n",
       "      <td>low</td>\n",
       "    </tr>\n",
       "    <tr>\n",
       "      <th>304</th>\n",
       "      <td>Data Analyst Consultant</td>\n",
       "      <td>C.H Robinson</td>\n",
       "      <td>Wood Dale</td>\n",
       "      <td>IL</td>\n",
       "      <td>year</td>\n",
       "      <td>73375.0</td>\n",
       "      <td>low</td>\n",
       "    </tr>\n",
       "    <tr>\n",
       "      <th>...</th>\n",
       "      <td>...</td>\n",
       "      <td>...</td>\n",
       "      <td>...</td>\n",
       "      <td>...</td>\n",
       "      <td>...</td>\n",
       "      <td>...</td>\n",
       "      <td>...</td>\n",
       "    </tr>\n",
       "    <tr>\n",
       "      <th>1757</th>\n",
       "      <td>PUBLIC UTILITIES REGULATORY ANALYST V</td>\n",
       "      <td>California Public Utilities Commission</td>\n",
       "      <td>San Francisco County</td>\n",
       "      <td>CA</td>\n",
       "      <td>month</td>\n",
       "      <td>116166.0</td>\n",
       "      <td>high</td>\n",
       "    </tr>\n",
       "    <tr>\n",
       "      <th>1795</th>\n",
       "      <td>Software Engineer Advisor - Machine Learning</td>\n",
       "      <td>FedEx Services</td>\n",
       "      <td>Chalfont</td>\n",
       "      <td>PA</td>\n",
       "      <td>month</td>\n",
       "      <td>130944.0</td>\n",
       "      <td>high</td>\n",
       "    </tr>\n",
       "    <tr>\n",
       "      <th>1802</th>\n",
       "      <td>Crime Analyst Administrator</td>\n",
       "      <td>City of Frisco</td>\n",
       "      <td>Frisco</td>\n",
       "      <td>TX</td>\n",
       "      <td>month</td>\n",
       "      <td>71664.0</td>\n",
       "      <td>low</td>\n",
       "    </tr>\n",
       "    <tr>\n",
       "      <th>1803</th>\n",
       "      <td>HR Analyst</td>\n",
       "      <td>City of Allen, TX</td>\n",
       "      <td>Allen</td>\n",
       "      <td>TX</td>\n",
       "      <td>month</td>\n",
       "      <td>52440.0</td>\n",
       "      <td>low</td>\n",
       "    </tr>\n",
       "    <tr>\n",
       "      <th>1806</th>\n",
       "      <td>Board Certified Behavior Analyst (BCBA)</td>\n",
       "      <td>Ross Therapy Group</td>\n",
       "      <td>Scotch Plains</td>\n",
       "      <td>NJ</td>\n",
       "      <td>month</td>\n",
       "      <td>73746.0</td>\n",
       "      <td>low</td>\n",
       "    </tr>\n",
       "  </tbody>\n",
       "</table>\n",
       "<p>176 rows × 7 columns</p>\n",
       "</div>"
      ],
      "text/plain": [
       "                                             title  \\\n",
       "162                                  SALES ANALYST   \n",
       "242                               Business Analyst   \n",
       "249                           Supply Chain Analyst   \n",
       "263                               Business Analyst   \n",
       "304                        Data Analyst Consultant   \n",
       "...                                            ...   \n",
       "1757         PUBLIC UTILITIES REGULATORY ANALYST V   \n",
       "1795  Software Engineer Advisor - Machine Learning   \n",
       "1802                   Crime Analyst Administrator   \n",
       "1803                                    HR Analyst   \n",
       "1806       Board Certified Behavior Analyst (BCBA)   \n",
       "\n",
       "                                     company                  City State  \\\n",
       "162                          Planterra Foods             Lafayette    CO   \n",
       "242                                NIM Group              Brighton    CO   \n",
       "249                            SRP Companies           Castle Rock    CO   \n",
       "263                  Chuck Latham Associates                Parker    CO   \n",
       "304                             C.H Robinson             Wood Dale    IL   \n",
       "...                                      ...                   ...   ...   \n",
       "1757  California Public Utilities Commission  San Francisco County    CA   \n",
       "1795                          FedEx Services              Chalfont    PA   \n",
       "1802                          City of Frisco                Frisco    TX   \n",
       "1803                       City of Allen, TX                 Allen    TX   \n",
       "1806                      Ross Therapy Group         Scotch Plains    NJ   \n",
       "\n",
       "       rate  salary_avg sal_hilo  \n",
       "162    year     60000.0      low  \n",
       "242    year     63000.0      low  \n",
       "249    year     95000.0     high  \n",
       "263    year     65000.0      low  \n",
       "304    year     73375.0      low  \n",
       "...     ...         ...      ...  \n",
       "1757  month    116166.0     high  \n",
       "1795  month    130944.0     high  \n",
       "1802  month     71664.0      low  \n",
       "1803  month     52440.0      low  \n",
       "1806  month     73746.0      low  \n",
       "\n",
       "[176 rows x 7 columns]"
      ]
     },
     "execution_count": 5,
     "metadata": {},
     "output_type": "execute_result"
    }
   ],
   "source": [
    "#find cities that only occur once\n",
    "df[df.groupby('City')['City'].transform('size') == 1 ]"
   ]
  },
  {
   "cell_type": "markdown",
   "metadata": {},
   "source": [
    "- Since 176 cities only appeared once, decided to create a subset with these cities removed for the modelling"
   ]
  },
  {
   "cell_type": "code",
   "execution_count": 6,
   "metadata": {
    "ExecuteTime": {
     "end_time": "2022-01-18T08:16:09.776291Z",
     "start_time": "2022-01-18T08:16:09.759930Z"
    }
   },
   "outputs": [],
   "source": [
    "df_cities = df[df.groupby('City')['City'].transform('size') > 1 ]\n",
    "\n",
    "#dumified predictor location variables: city and state \n",
    "df_cities = pd.get_dummies(df_cities, columns=['City', 'State'], drop_first=True)"
   ]
  },
  {
   "cell_type": "code",
   "execution_count": 7,
   "metadata": {
    "ExecuteTime": {
     "end_time": "2022-01-18T08:16:10.512979Z",
     "start_time": "2022-01-18T08:16:10.505544Z"
    }
   },
   "outputs": [],
   "source": [
    "#create target variable\n",
    "y = df_cities.pop('sal_hilo')"
   ]
  },
  {
   "cell_type": "code",
   "execution_count": 8,
   "metadata": {
    "ExecuteTime": {
     "end_time": "2022-01-18T08:16:20.053358Z",
     "start_time": "2022-01-18T08:16:20.044730Z"
    }
   },
   "outputs": [
    {
     "data": {
      "text/plain": [
       "high    0.510703\n",
       "low     0.489297\n",
       "Name: sal_hilo, dtype: float64"
      ]
     },
     "execution_count": 8,
     "metadata": {},
     "output_type": "execute_result"
    }
   ],
   "source": [
    "#baseline accuracy for our model \n",
    "y.value_counts(normalize=True)"
   ]
  },
  {
   "cell_type": "markdown",
   "metadata": {},
   "source": [
    "- based on the baseline accuracy, I am aiming for a score > 0.51"
   ]
  },
  {
   "cell_type": "code",
   "execution_count": 9,
   "metadata": {
    "ExecuteTime": {
     "end_time": "2022-01-18T08:16:25.413597Z",
     "start_time": "2022-01-18T08:16:25.405607Z"
    }
   },
   "outputs": [],
   "source": [
    "#removed other variables that were not relevant \n",
    "a = df_cities.pop('title')\n",
    "b = df_cities.pop('company')\n",
    "d = df_cities.pop('rate')\n",
    "d = df_cities.pop('salary_avg')"
   ]
  },
  {
   "cell_type": "code",
   "execution_count": 10,
   "metadata": {
    "ExecuteTime": {
     "end_time": "2022-01-18T08:16:27.618779Z",
     "start_time": "2022-01-18T08:16:27.612298Z"
    }
   },
   "outputs": [],
   "source": [
    "#create predictor variables \n",
    "X = df_cities"
   ]
  },
  {
   "cell_type": "code",
   "execution_count": 11,
   "metadata": {
    "ExecuteTime": {
     "end_time": "2022-01-18T08:16:28.861991Z",
     "start_time": "2022-01-18T08:16:28.274668Z"
    }
   },
   "outputs": [],
   "source": [
    "from sklearn.linear_model import LogisticRegression\n",
    "from sklearn.model_selection import cross_val_score, train_test_split, StratifiedKFold, GridSearchCV\n",
    "from sklearn.preprocessing import StandardScaler\n",
    "from sklearn.neighbors import KNeighborsClassifier\n",
    "from sklearn.tree import DecisionTreeClassifier\n",
    "from sklearn.ensemble import RandomForestClassifier, ExtraTreesClassifier, BaggingClassifier\n",
    "from sklearn.metrics import accuracy_score"
   ]
  },
  {
   "cell_type": "markdown",
   "metadata": {},
   "source": [
    "#### Model 1 = Logistic regression using only location variables :"
   ]
  },
  {
   "cell_type": "code",
   "execution_count": 12,
   "metadata": {
    "ExecuteTime": {
     "end_time": "2022-01-18T08:16:37.714478Z",
     "start_time": "2022-01-18T08:16:37.709183Z"
    }
   },
   "outputs": [],
   "source": [
    "log = LogisticRegression()\n",
    "sc = StandardScaler()\n",
    "kf = StratifiedKFold(n_splits=5)"
   ]
  },
  {
   "cell_type": "code",
   "execution_count": 13,
   "metadata": {
    "ExecuteTime": {
     "end_time": "2022-01-18T08:16:38.253642Z",
     "start_time": "2022-01-18T08:16:38.241437Z"
    }
   },
   "outputs": [],
   "source": [
    "X_train, X_test, y_train, y_test = train_test_split(X, y, stratify=y,test_size=0.2, random_state=42)"
   ]
  },
  {
   "cell_type": "code",
   "execution_count": 14,
   "metadata": {
    "ExecuteTime": {
     "end_time": "2022-01-18T08:16:39.182400Z",
     "start_time": "2022-01-18T08:16:39.160396Z"
    }
   },
   "outputs": [],
   "source": [
    "X_train = pd.DataFrame(sc.fit_transform(X_train),\n",
    "                       columns=X_train.columns)\n",
    "X_test = pd.DataFrame(sc.transform(X_test),\n",
    "                     columns = X_test.columns)"
   ]
  },
  {
   "cell_type": "code",
   "execution_count": 15,
   "metadata": {
    "ExecuteTime": {
     "end_time": "2022-01-18T08:16:40.127981Z",
     "start_time": "2022-01-18T08:16:39.833781Z"
    }
   },
   "outputs": [
    {
     "name": "stdout",
     "output_type": "stream",
     "text": [
      "train score: 0.6636085626911316\n",
      "test score: 0.6116207951070336\n",
      "mean of cross-val score: 0.5779795852709777\n"
     ]
    }
   ],
   "source": [
    "log.fit(X_train, y_train)\n",
    "print('train score:',log.score(X_train, y_train))\n",
    "print('test score:',log.score(X_test, y_test))\n",
    "print('mean of cross-val score:',cross_val_score(log, X_train, y_train, cv=kf).mean())"
   ]
  },
  {
   "cell_type": "code",
   "execution_count": 16,
   "metadata": {
    "ExecuteTime": {
     "end_time": "2022-01-18T08:16:57.596649Z",
     "start_time": "2022-01-18T08:16:57.590377Z"
    }
   },
   "outputs": [],
   "source": [
    "# used Grid search to tune the model \n",
    "log_params = {'penalty': ['l1', 'l2'],\n",
    "                   'solver': ['liblinear'],\n",
    "                   'C': np.logspace(-4, 4, 9)}\n",
    "gs = GridSearchCV(log, log_params, cv=kf, n_jobs=2, verbose=1)"
   ]
  },
  {
   "cell_type": "code",
   "execution_count": 17,
   "metadata": {
    "ExecuteTime": {
     "end_time": "2022-01-18T08:17:22.680204Z",
     "start_time": "2022-01-18T08:17:01.545265Z"
    }
   },
   "outputs": [
    {
     "name": "stdout",
     "output_type": "stream",
     "text": [
      "Fitting 5 folds for each of 18 candidates, totalling 90 fits\n"
     ]
    },
    {
     "name": "stderr",
     "output_type": "stream",
     "text": [
      "/Applications/anaconda3/lib/python3.9/site-packages/sklearn/svm/_base.py:985: ConvergenceWarning: Liblinear failed to converge, increase the number of iterations.\n",
      "  warnings.warn(\"Liblinear failed to converge, increase \"\n",
      "/Applications/anaconda3/lib/python3.9/site-packages/sklearn/svm/_base.py:985: ConvergenceWarning: Liblinear failed to converge, increase the number of iterations.\n",
      "  warnings.warn(\"Liblinear failed to converge, increase \"\n",
      "/Applications/anaconda3/lib/python3.9/site-packages/sklearn/svm/_base.py:985: ConvergenceWarning: Liblinear failed to converge, increase the number of iterations.\n",
      "  warnings.warn(\"Liblinear failed to converge, increase \"\n"
     ]
    },
    {
     "data": {
      "text/plain": [
       "GridSearchCV(cv=StratifiedKFold(n_splits=5, random_state=None, shuffle=False),\n",
       "             estimator=LogisticRegression(), n_jobs=2,\n",
       "             param_grid={'C': array([1.e-04, 1.e-03, 1.e-02, 1.e-01, 1.e+00, 1.e+01, 1.e+02, 1.e+03,\n",
       "       1.e+04]),\n",
       "                         'penalty': ['l1', 'l2'], 'solver': ['liblinear']},\n",
       "             verbose=1)"
      ]
     },
     "execution_count": 17,
     "metadata": {},
     "output_type": "execute_result"
    }
   ],
   "source": [
    "gs.fit(X_train, y_train)"
   ]
  },
  {
   "cell_type": "code",
   "execution_count": 18,
   "metadata": {
    "ExecuteTime": {
     "end_time": "2022-01-18T08:18:10.199054Z",
     "start_time": "2022-01-18T08:18:10.181521Z"
    }
   },
   "outputs": [
    {
     "name": "stdout",
     "output_type": "stream",
     "text": [
      "best parameters: {'C': 0.1, 'penalty': 'l1', 'solver': 'liblinear'}\n",
      "best score: 0.5932760083062794\n",
      "train score: 0.6490825688073395\n",
      "test score: 0.5871559633027523\n"
     ]
    }
   ],
   "source": [
    "print('best parameters:',gs.best_params_)\n",
    "print('best score:',gs.best_score_)\n",
    "best_logreg = gs.best_estimator_\n",
    "print('train score:',best_logreg.score(X_train, y_train))\n",
    "print('test score:',best_logreg.score(X_test, y_test))"
   ]
  },
  {
   "cell_type": "markdown",
   "metadata": {},
   "source": [
    "- Applying a logistic regression to the predict a high or low salary using the scaled, location features of City and State gave a cross-validation of score 0.57\n",
    "- Tuning the model to find the optimal hyperparameters improved the score to 0.593\n",
    "- Therefore the model's accurately classifying 59% of the low and high classes\n",
    " - Accuracy = (true lows + true highs)/total lows+highs"
   ]
  },
  {
   "cell_type": "code",
   "execution_count": 19,
   "metadata": {
    "ExecuteTime": {
     "end_time": "2022-01-18T08:18:24.217621Z",
     "start_time": "2022-01-18T08:18:24.206600Z"
    }
   },
   "outputs": [],
   "source": [
    "#create df of top 10 postive and negative coefficients \n",
    "feat_1 =pd.DataFrame(list(zip(X.columns, log.coef_[0])), columns=['feature', 'coef']).sort_values(by='coef')[:10]\n",
    "feat_2 =pd.DataFrame(list(zip(X.columns, log.coef_[0])), columns=['feature', 'coef']).sort_values(by='coef')[151:161]\n",
    "feat_im = pd.concat([feat_1.reset_index(drop=True), feat_2.reset_index(drop=True)], axis=0)"
   ]
  },
  {
   "cell_type": "code",
   "execution_count": 20,
   "metadata": {
    "ExecuteTime": {
     "end_time": "2022-01-18T08:18:25.199238Z",
     "start_time": "2022-01-18T08:18:24.928815Z"
    }
   },
   "outputs": [
    {
     "data": {
      "image/png": "[encoded data removed]",
      "text/plain": [
       "<Figure size 576x864 with 1 Axes>"
      ]
     },
     "metadata": {
      "needs_background": "light"
     },
     "output_type": "display_data"
    }
   ],
   "source": [
    "#The positive scores indicate a feature that predicts class =low, \n",
    "#whereas the negative scores indicate a feature that predicts class =high\n",
    "feat_im.plot(kind='barh', x='feature', y='coef', figsize=(8, 12))\n",
    "plt.show()"
   ]
  },
  {
   "cell_type": "markdown",
   "metadata": {},
   "source": [
    " \n",
    "- The above bar chart shows the top 10 coefficients that are the strongest predictors for the low and high salary classes: \n",
    "  - the positive scores indicate a feature that predicts 'low':\n",
    "      - The cities of Herndon and Boston and state of PA are the strongest for the low class\n",
    "  - the negative scores indicate a feature that predicts 'high':\n",
    "      - The state of CA and VA and city of lone tree are strongest for the high class"
   ]
  },
  {
   "cell_type": "markdown",
   "metadata": {},
   "source": [
    "#### Model 2 = Decision Tree using only location variables :"
   ]
  },
  {
   "cell_type": "code",
   "execution_count": 21,
   "metadata": {
    "ExecuteTime": {
     "end_time": "2022-01-18T08:19:30.030856Z",
     "start_time": "2022-01-18T08:19:29.965370Z"
    }
   },
   "outputs": [
    {
     "name": "stdout",
     "output_type": "stream",
     "text": [
      "train score: 0.5535168195718655\n",
      "test score: 0.5504587155963303\n",
      "cross val score: 0.5229066128513351\n"
     ]
    }
   ],
   "source": [
    "classifier = DecisionTreeClassifier(criterion='gini',\n",
    "                                    max_depth=2, \n",
    "                                    random_state=1)\n",
    "classifier.fit(X_train, y_train)\n",
    "print('train score:',classifier.score(X_train, y_train))\n",
    "print('test score:',classifier.score(X_test, y_test))\n",
    "print('cross val score:',cross_val_score(classifier, X_train, y_train, cv=kf).mean())"
   ]
  },
  {
   "cell_type": "code",
   "execution_count": 22,
   "metadata": {
    "ExecuteTime": {
     "end_time": "2022-01-18T08:20:31.814552Z",
     "start_time": "2022-01-18T08:19:33.473504Z"
    }
   },
   "outputs": [
    {
     "name": "stdout",
     "output_type": "stream",
     "text": [
      "Fitting 5 folds for each of 3388 candidates, totalling 16940 fits\n"
     ]
    },
    {
     "data": {
      "text/plain": [
       "GridSearchCV(cv=StratifiedKFold(n_splits=5, random_state=None, shuffle=False),\n",
       "             estimator=DecisionTreeClassifier(max_depth=2, random_state=1),\n",
       "             n_jobs=2,\n",
       "             param_grid={'ccp_alpha': [0, 0.001, 0.005, 0.01],\n",
       "                         'max_depth': [1, 2, 3, 4, 5, 6, 7, 8, 9, 10, None],\n",
       "                         'max_features': [None, 1, 2, 3, 4, 5, 6],\n",
       "                         'min_samples_split': [2, 3, 4, 5, 10, 15, 20, 25, 30,\n",
       "                                               40, 50]},\n",
       "             verbose=1)"
      ]
     },
     "execution_count": 22,
     "metadata": {},
     "output_type": "execute_result"
    }
   ],
   "source": [
    "# tune with gridsearch \n",
    "\n",
    "tree_params = {\n",
    "    'max_depth': list(range(1, 11))+[None],\n",
    "    'max_features': [None, 1, 2, 3,4,5,6],\n",
    "    'min_samples_split': [2, 3, 4, 5, 10, 15, 20, 25, 30, 40, 50],\n",
    "    'ccp_alpha': [0, 0.001, 0.005, 0.01]\n",
    "}\n",
    "tree_gs = GridSearchCV(classifier, tree_params, cv=kf, n_jobs=2, verbose=1)\n",
    "tree_gs.fit(X_train, y_train)"
   ]
  },
  {
   "cell_type": "code",
   "execution_count": 23,
   "metadata": {
    "ExecuteTime": {
     "end_time": "2022-01-18T08:20:42.325188Z",
     "start_time": "2022-01-18T08:20:42.311105Z"
    }
   },
   "outputs": [
    {
     "name": "stdout",
     "output_type": "stream",
     "text": [
      "best parameters: {'ccp_alpha': 0, 'max_depth': None, 'max_features': 5, 'min_samples_split': 20}\n",
      "best cv score: 0.5917258927788015\n",
      "train score: 0.6536697247706422\n",
      "test score: 0.617737003058104\n"
     ]
    }
   ],
   "source": [
    "print('best parameters:',tree_gs.best_params_)\n",
    "print('best cv score:', tree_gs.best_score_)\n",
    "best_tree = tree_gs.best_estimator_\n",
    "print('train score:',best_tree.score(X_train, y_train))\n",
    "print('test score:',best_tree.score(X_test, y_test))"
   ]
  },
  {
   "cell_type": "markdown",
   "metadata": {},
   "source": [
    "- Applying a decision tree classifier gave a cross-validation of score 0.523\n",
    "- Tuning the model to find the optimal hyperparameters improved the score to 0.592\n",
    "    - Therefore the model's accurately predicting 59% of the low and high classes\n",
    "- The logistic regression model's score is only slightly higher (0.593)"
   ]
  },
  {
   "cell_type": "code",
   "execution_count": 24,
   "metadata": {
    "ExecuteTime": {
     "end_time": "2022-01-18T08:21:02.610124Z",
     "start_time": "2022-01-18T08:21:02.599310Z"
    }
   },
   "outputs": [
    {
     "data": {
      "text/html": [
       "<div>\n",
       "<style scoped>\n",
       "    .dataframe tbody tr th:only-of-type {\n",
       "        vertical-align: middle;\n",
       "    }\n",
       "\n",
       "    .dataframe tbody tr th {\n",
       "        vertical-align: top;\n",
       "    }\n",
       "\n",
       "    .dataframe thead th {\n",
       "        text-align: right;\n",
       "    }\n",
       "</style>\n",
       "<table border=\"1\" class=\"dataframe\">\n",
       "  <thead>\n",
       "    <tr style=\"text-align: right;\">\n",
       "      <th></th>\n",
       "      <th>feature</th>\n",
       "      <th>importance</th>\n",
       "    </tr>\n",
       "  </thead>\n",
       "  <tbody>\n",
       "    <tr>\n",
       "      <th>154</th>\n",
       "      <td>State_ NY</td>\n",
       "      <td>0.055686</td>\n",
       "    </tr>\n",
       "    <tr>\n",
       "      <th>70</th>\n",
       "      <td>City_Lone Tree</td>\n",
       "      <td>0.036664</td>\n",
       "    </tr>\n",
       "    <tr>\n",
       "      <th>10</th>\n",
       "      <td>City_Austin</td>\n",
       "      <td>0.036149</td>\n",
       "    </tr>\n",
       "    <tr>\n",
       "      <th>112</th>\n",
       "      <td>City_San Francisco</td>\n",
       "      <td>0.029979</td>\n",
       "    </tr>\n",
       "    <tr>\n",
       "      <th>99</th>\n",
       "      <td>City_Plano</td>\n",
       "      <td>0.028951</td>\n",
       "    </tr>\n",
       "    <tr>\n",
       "      <th>97</th>\n",
       "      <td>City_Phoenix</td>\n",
       "      <td>0.027408</td>\n",
       "    </tr>\n",
       "    <tr>\n",
       "      <th>130</th>\n",
       "      <td>City_Vancouver</td>\n",
       "      <td>0.025466</td>\n",
       "    </tr>\n",
       "    <tr>\n",
       "      <th>86</th>\n",
       "      <td>City_Newark</td>\n",
       "      <td>0.025233</td>\n",
       "    </tr>\n",
       "    <tr>\n",
       "      <th>39</th>\n",
       "      <td>City_Englewood</td>\n",
       "      <td>0.025027</td>\n",
       "    </tr>\n",
       "    <tr>\n",
       "      <th>137</th>\n",
       "      <td>City_Westminster</td>\n",
       "      <td>0.023077</td>\n",
       "    </tr>\n",
       "    <tr>\n",
       "      <th>19</th>\n",
       "      <td>City_Buffalo</td>\n",
       "      <td>0.021962</td>\n",
       "    </tr>\n",
       "    <tr>\n",
       "      <th>22</th>\n",
       "      <td>City_Cambridge</td>\n",
       "      <td>0.020649</td>\n",
       "    </tr>\n",
       "    <tr>\n",
       "      <th>92</th>\n",
       "      <td>City_Olympia</td>\n",
       "      <td>0.019709</td>\n",
       "    </tr>\n",
       "    <tr>\n",
       "      <th>159</th>\n",
       "      <td>State_ WA</td>\n",
       "      <td>0.018892</td>\n",
       "    </tr>\n",
       "    <tr>\n",
       "      <th>77</th>\n",
       "      <td>City_Marietta</td>\n",
       "      <td>0.017324</td>\n",
       "    </tr>\n",
       "    <tr>\n",
       "      <th>54</th>\n",
       "      <td>City_Houston</td>\n",
       "      <td>0.017145</td>\n",
       "    </tr>\n",
       "    <tr>\n",
       "      <th>33</th>\n",
       "      <td>City_Decatur</td>\n",
       "      <td>0.017059</td>\n",
       "    </tr>\n",
       "    <tr>\n",
       "      <th>134</th>\n",
       "      <td>City_West Chester</td>\n",
       "      <td>0.017035</td>\n",
       "    </tr>\n",
       "    <tr>\n",
       "      <th>5</th>\n",
       "      <td>City_Annapolis Junction</td>\n",
       "      <td>0.016453</td>\n",
       "    </tr>\n",
       "    <tr>\n",
       "      <th>143</th>\n",
       "      <td>State_ CA</td>\n",
       "      <td>0.016148</td>\n",
       "    </tr>\n",
       "  </tbody>\n",
       "</table>\n",
       "</div>"
      ],
      "text/plain": [
       "                     feature  importance\n",
       "154                State_ NY    0.055686\n",
       "70            City_Lone Tree    0.036664\n",
       "10               City_Austin    0.036149\n",
       "112       City_San Francisco    0.029979\n",
       "99                City_Plano    0.028951\n",
       "97              City_Phoenix    0.027408\n",
       "130           City_Vancouver    0.025466\n",
       "86               City_Newark    0.025233\n",
       "39            City_Englewood    0.025027\n",
       "137         City_Westminster    0.023077\n",
       "19              City_Buffalo    0.021962\n",
       "22            City_Cambridge    0.020649\n",
       "92              City_Olympia    0.019709\n",
       "159                State_ WA    0.018892\n",
       "77             City_Marietta    0.017324\n",
       "54              City_Houston    0.017145\n",
       "33              City_Decatur    0.017059\n",
       "134        City_West Chester    0.017035\n",
       "5    City_Annapolis Junction    0.016453\n",
       "143                State_ CA    0.016148"
      ]
     },
     "execution_count": 24,
     "metadata": {},
     "output_type": "execute_result"
    }
   ],
   "source": [
    "fi = pd.DataFrame({\n",
    "    'feature': X.columns,\n",
    "    'importance': best_tree.feature_importances_\n",
    "})\n",
    "\n",
    "fi.sort_values('importance', ascending=False, inplace=True)\n",
    "fi[:20]"
   ]
  },
  {
   "cell_type": "markdown",
   "metadata": {
    "ExecuteTime": {
     "end_time": "2022-01-17T18:25:47.608246Z",
     "start_time": "2022-01-17T18:25:47.592672Z"
    }
   },
   "source": [
    "- The above df lists the top 20 features that had the highest impact in predicting the high or low class when applying the decision tree model\n",
    "- The State_NY was most important in the branching of the decision tree model, followed by City_Lone Tree and City_Austin"
   ]
  },
  {
   "cell_type": "markdown",
   "metadata": {},
   "source": [
    "#### Incorporating terms used in job title column "
   ]
  },
  {
   "cell_type": "code",
   "execution_count": 25,
   "metadata": {
    "ExecuteTime": {
     "end_time": "2022-01-18T08:22:36.323730Z",
     "start_time": "2022-01-18T08:22:36.311164Z"
    }
   },
   "outputs": [],
   "source": [
    "#starting with same subset as above\n",
    "df_2 = df[df.groupby('City')['City'].transform('size') > 1 ]\n",
    "df_2 = pd.get_dummies(df_2, columns=['City', 'State'], drop_first=True)"
   ]
  },
  {
   "cell_type": "code",
   "execution_count": 26,
   "metadata": {
    "ExecuteTime": {
     "end_time": "2022-01-18T08:22:36.869035Z",
     "start_time": "2022-01-18T08:22:36.859549Z"
    }
   },
   "outputs": [
    {
     "data": {
      "text/plain": [
       "(1635, 165)"
      ]
     },
     "execution_count": 26,
     "metadata": {},
     "output_type": "execute_result"
    }
   ],
   "source": [
    "df_2.shape"
   ]
  },
  {
   "cell_type": "code",
   "execution_count": 27,
   "metadata": {
    "ExecuteTime": {
     "end_time": "2022-01-18T08:22:38.737200Z",
     "start_time": "2022-01-18T08:22:38.146306Z"
    }
   },
   "outputs": [],
   "source": [
    "import nltk"
   ]
  },
  {
   "cell_type": "code",
   "execution_count": 28,
   "metadata": {
    "ExecuteTime": {
     "end_time": "2022-01-18T08:22:38.746449Z",
     "start_time": "2022-01-18T08:22:38.741140Z"
    }
   },
   "outputs": [],
   "source": [
    "from sklearn.feature_extraction.text import CountVectorizer\n",
    "\n",
    "cvec = CountVectorizer(stop_words='english', ngram_range=(1, 1), max_features=3000)"
   ]
  },
  {
   "cell_type": "code",
   "execution_count": 29,
   "metadata": {
    "ExecuteTime": {
     "end_time": "2022-01-18T08:22:41.069189Z",
     "start_time": "2022-01-18T08:22:41.006214Z"
    }
   },
   "outputs": [],
   "source": [
    "cvec.fit(df_2['title'])\n",
    "tdata = cvec.transform(df_2['title'])"
   ]
  },
  {
   "cell_type": "code",
   "execution_count": 30,
   "metadata": {
    "ExecuteTime": {
     "end_time": "2022-01-18T08:22:41.793729Z",
     "start_time": "2022-01-18T08:22:41.771115Z"
    }
   },
   "outputs": [
    {
     "data": {
      "text/html": [
       "<div>\n",
       "<style scoped>\n",
       "    .dataframe tbody tr th:only-of-type {\n",
       "        vertical-align: middle;\n",
       "    }\n",
       "\n",
       "    .dataframe tbody tr th {\n",
       "        vertical-align: top;\n",
       "    }\n",
       "\n",
       "    .dataframe thead th {\n",
       "        text-align: right;\n",
       "    }\n",
       "</style>\n",
       "<table border=\"1\" class=\"dataframe\">\n",
       "  <thead>\n",
       "    <tr style=\"text-align: right;\">\n",
       "      <th></th>\n",
       "      <th>00017790</th>\n",
       "      <th>00018690</th>\n",
       "      <th>00019926</th>\n",
       "      <th>0142</th>\n",
       "      <th>0161</th>\n",
       "      <th>017</th>\n",
       "      <th>023</th>\n",
       "      <th>02602</th>\n",
       "      <th>0319</th>\n",
       "      <th>0635</th>\n",
       "      <th>...</th>\n",
       "      <th>window</th>\n",
       "      <th>wms</th>\n",
       "      <th>wms2</th>\n",
       "      <th>work</th>\n",
       "      <th>workday</th>\n",
       "      <th>worker</th>\n",
       "      <th>workforce</th>\n",
       "      <th>working</th>\n",
       "      <th>writer</th>\n",
       "      <th>years</th>\n",
       "    </tr>\n",
       "  </thead>\n",
       "  <tbody>\n",
       "    <tr>\n",
       "      <th>0</th>\n",
       "      <td>0</td>\n",
       "      <td>0</td>\n",
       "      <td>0</td>\n",
       "      <td>0</td>\n",
       "      <td>0</td>\n",
       "      <td>0</td>\n",
       "      <td>0</td>\n",
       "      <td>0</td>\n",
       "      <td>0</td>\n",
       "      <td>0</td>\n",
       "      <td>...</td>\n",
       "      <td>0</td>\n",
       "      <td>0</td>\n",
       "      <td>0</td>\n",
       "      <td>0</td>\n",
       "      <td>0</td>\n",
       "      <td>0</td>\n",
       "      <td>0</td>\n",
       "      <td>0</td>\n",
       "      <td>0</td>\n",
       "      <td>0</td>\n",
       "    </tr>\n",
       "    <tr>\n",
       "      <th>1</th>\n",
       "      <td>0</td>\n",
       "      <td>0</td>\n",
       "      <td>0</td>\n",
       "      <td>0</td>\n",
       "      <td>0</td>\n",
       "      <td>0</td>\n",
       "      <td>0</td>\n",
       "      <td>0</td>\n",
       "      <td>0</td>\n",
       "      <td>0</td>\n",
       "      <td>...</td>\n",
       "      <td>0</td>\n",
       "      <td>0</td>\n",
       "      <td>0</td>\n",
       "      <td>0</td>\n",
       "      <td>0</td>\n",
       "      <td>0</td>\n",
       "      <td>0</td>\n",
       "      <td>0</td>\n",
       "      <td>0</td>\n",
       "      <td>0</td>\n",
       "    </tr>\n",
       "    <tr>\n",
       "      <th>2</th>\n",
       "      <td>0</td>\n",
       "      <td>0</td>\n",
       "      <td>0</td>\n",
       "      <td>0</td>\n",
       "      <td>0</td>\n",
       "      <td>0</td>\n",
       "      <td>0</td>\n",
       "      <td>0</td>\n",
       "      <td>0</td>\n",
       "      <td>0</td>\n",
       "      <td>...</td>\n",
       "      <td>0</td>\n",
       "      <td>0</td>\n",
       "      <td>0</td>\n",
       "      <td>0</td>\n",
       "      <td>0</td>\n",
       "      <td>0</td>\n",
       "      <td>0</td>\n",
       "      <td>0</td>\n",
       "      <td>0</td>\n",
       "      <td>0</td>\n",
       "    </tr>\n",
       "    <tr>\n",
       "      <th>3</th>\n",
       "      <td>0</td>\n",
       "      <td>0</td>\n",
       "      <td>0</td>\n",
       "      <td>0</td>\n",
       "      <td>0</td>\n",
       "      <td>0</td>\n",
       "      <td>0</td>\n",
       "      <td>0</td>\n",
       "      <td>0</td>\n",
       "      <td>0</td>\n",
       "      <td>...</td>\n",
       "      <td>0</td>\n",
       "      <td>0</td>\n",
       "      <td>0</td>\n",
       "      <td>0</td>\n",
       "      <td>0</td>\n",
       "      <td>0</td>\n",
       "      <td>0</td>\n",
       "      <td>0</td>\n",
       "      <td>0</td>\n",
       "      <td>0</td>\n",
       "    </tr>\n",
       "    <tr>\n",
       "      <th>4</th>\n",
       "      <td>0</td>\n",
       "      <td>0</td>\n",
       "      <td>0</td>\n",
       "      <td>0</td>\n",
       "      <td>0</td>\n",
       "      <td>0</td>\n",
       "      <td>0</td>\n",
       "      <td>0</td>\n",
       "      <td>0</td>\n",
       "      <td>0</td>\n",
       "      <td>...</td>\n",
       "      <td>0</td>\n",
       "      <td>0</td>\n",
       "      <td>0</td>\n",
       "      <td>0</td>\n",
       "      <td>0</td>\n",
       "      <td>0</td>\n",
       "      <td>0</td>\n",
       "      <td>0</td>\n",
       "      <td>0</td>\n",
       "      <td>0</td>\n",
       "    </tr>\n",
       "    <tr>\n",
       "      <th>...</th>\n",
       "      <td>...</td>\n",
       "      <td>...</td>\n",
       "      <td>...</td>\n",
       "      <td>...</td>\n",
       "      <td>...</td>\n",
       "      <td>...</td>\n",
       "      <td>...</td>\n",
       "      <td>...</td>\n",
       "      <td>...</td>\n",
       "      <td>...</td>\n",
       "      <td>...</td>\n",
       "      <td>...</td>\n",
       "      <td>...</td>\n",
       "      <td>...</td>\n",
       "      <td>...</td>\n",
       "      <td>...</td>\n",
       "      <td>...</td>\n",
       "      <td>...</td>\n",
       "      <td>...</td>\n",
       "      <td>...</td>\n",
       "      <td>...</td>\n",
       "    </tr>\n",
       "    <tr>\n",
       "      <th>1630</th>\n",
       "      <td>0</td>\n",
       "      <td>0</td>\n",
       "      <td>0</td>\n",
       "      <td>0</td>\n",
       "      <td>0</td>\n",
       "      <td>0</td>\n",
       "      <td>0</td>\n",
       "      <td>0</td>\n",
       "      <td>0</td>\n",
       "      <td>0</td>\n",
       "      <td>...</td>\n",
       "      <td>0</td>\n",
       "      <td>0</td>\n",
       "      <td>0</td>\n",
       "      <td>0</td>\n",
       "      <td>0</td>\n",
       "      <td>0</td>\n",
       "      <td>0</td>\n",
       "      <td>0</td>\n",
       "      <td>0</td>\n",
       "      <td>0</td>\n",
       "    </tr>\n",
       "    <tr>\n",
       "      <th>1631</th>\n",
       "      <td>0</td>\n",
       "      <td>0</td>\n",
       "      <td>0</td>\n",
       "      <td>0</td>\n",
       "      <td>0</td>\n",
       "      <td>0</td>\n",
       "      <td>0</td>\n",
       "      <td>0</td>\n",
       "      <td>0</td>\n",
       "      <td>0</td>\n",
       "      <td>...</td>\n",
       "      <td>0</td>\n",
       "      <td>0</td>\n",
       "      <td>0</td>\n",
       "      <td>0</td>\n",
       "      <td>0</td>\n",
       "      <td>0</td>\n",
       "      <td>0</td>\n",
       "      <td>0</td>\n",
       "      <td>0</td>\n",
       "      <td>0</td>\n",
       "    </tr>\n",
       "    <tr>\n",
       "      <th>1632</th>\n",
       "      <td>0</td>\n",
       "      <td>0</td>\n",
       "      <td>0</td>\n",
       "      <td>0</td>\n",
       "      <td>0</td>\n",
       "      <td>0</td>\n",
       "      <td>0</td>\n",
       "      <td>0</td>\n",
       "      <td>0</td>\n",
       "      <td>0</td>\n",
       "      <td>...</td>\n",
       "      <td>0</td>\n",
       "      <td>0</td>\n",
       "      <td>0</td>\n",
       "      <td>0</td>\n",
       "      <td>0</td>\n",
       "      <td>0</td>\n",
       "      <td>0</td>\n",
       "      <td>0</td>\n",
       "      <td>0</td>\n",
       "      <td>0</td>\n",
       "    </tr>\n",
       "    <tr>\n",
       "      <th>1633</th>\n",
       "      <td>0</td>\n",
       "      <td>0</td>\n",
       "      <td>0</td>\n",
       "      <td>0</td>\n",
       "      <td>0</td>\n",
       "      <td>0</td>\n",
       "      <td>0</td>\n",
       "      <td>0</td>\n",
       "      <td>0</td>\n",
       "      <td>0</td>\n",
       "      <td>...</td>\n",
       "      <td>0</td>\n",
       "      <td>0</td>\n",
       "      <td>0</td>\n",
       "      <td>0</td>\n",
       "      <td>0</td>\n",
       "      <td>0</td>\n",
       "      <td>0</td>\n",
       "      <td>0</td>\n",
       "      <td>0</td>\n",
       "      <td>0</td>\n",
       "    </tr>\n",
       "    <tr>\n",
       "      <th>1634</th>\n",
       "      <td>0</td>\n",
       "      <td>0</td>\n",
       "      <td>0</td>\n",
       "      <td>0</td>\n",
       "      <td>0</td>\n",
       "      <td>0</td>\n",
       "      <td>0</td>\n",
       "      <td>0</td>\n",
       "      <td>0</td>\n",
       "      <td>0</td>\n",
       "      <td>...</td>\n",
       "      <td>0</td>\n",
       "      <td>0</td>\n",
       "      <td>0</td>\n",
       "      <td>0</td>\n",
       "      <td>0</td>\n",
       "      <td>0</td>\n",
       "      <td>0</td>\n",
       "      <td>0</td>\n",
       "      <td>0</td>\n",
       "      <td>0</td>\n",
       "    </tr>\n",
       "  </tbody>\n",
       "</table>\n",
       "<p>1635 rows × 895 columns</p>\n",
       "</div>"
      ],
      "text/plain": [
       "      00017790  00018690  00019926  0142  0161  017  023  02602  0319  0635  \\\n",
       "0            0         0         0     0     0    0    0      0     0     0   \n",
       "1            0         0         0     0     0    0    0      0     0     0   \n",
       "2            0         0         0     0     0    0    0      0     0     0   \n",
       "3            0         0         0     0     0    0    0      0     0     0   \n",
       "4            0         0         0     0     0    0    0      0     0     0   \n",
       "...        ...       ...       ...   ...   ...  ...  ...    ...   ...   ...   \n",
       "1630         0         0         0     0     0    0    0      0     0     0   \n",
       "1631         0         0         0     0     0    0    0      0     0     0   \n",
       "1632         0         0         0     0     0    0    0      0     0     0   \n",
       "1633         0         0         0     0     0    0    0      0     0     0   \n",
       "1634         0         0         0     0     0    0    0      0     0     0   \n",
       "\n",
       "      ...  window  wms  wms2  work  workday  worker  workforce  working  \\\n",
       "0     ...       0    0     0     0        0       0          0        0   \n",
       "1     ...       0    0     0     0        0       0          0        0   \n",
       "2     ...       0    0     0     0        0       0          0        0   \n",
       "3     ...       0    0     0     0        0       0          0        0   \n",
       "4     ...       0    0     0     0        0       0          0        0   \n",
       "...   ...     ...  ...   ...   ...      ...     ...        ...      ...   \n",
       "1630  ...       0    0     0     0        0       0          0        0   \n",
       "1631  ...       0    0     0     0        0       0          0        0   \n",
       "1632  ...       0    0     0     0        0       0          0        0   \n",
       "1633  ...       0    0     0     0        0       0          0        0   \n",
       "1634  ...       0    0     0     0        0       0          0        0   \n",
       "\n",
       "      writer  years  \n",
       "0          0      0  \n",
       "1          0      0  \n",
       "2          0      0  \n",
       "3          0      0  \n",
       "4          0      0  \n",
       "...      ...    ...  \n",
       "1630       0      0  \n",
       "1631       0      0  \n",
       "1632       0      0  \n",
       "1633       0      0  \n",
       "1634       0      0  \n",
       "\n",
       "[1635 rows x 895 columns]"
      ]
     },
     "execution_count": 30,
     "metadata": {},
     "output_type": "execute_result"
    }
   ],
   "source": [
    "dft = pd.DataFrame(tdata.toarray(),columns=cvec.get_feature_names())\n",
    "dft"
   ]
  },
  {
   "cell_type": "code",
   "execution_count": 31,
   "metadata": {
    "ExecuteTime": {
     "end_time": "2022-01-18T08:22:45.739795Z",
     "start_time": "2022-01-18T08:22:45.730552Z"
    }
   },
   "outputs": [
    {
     "data": {
      "text/html": [
       "<div>\n",
       "<style scoped>\n",
       "    .dataframe tbody tr th:only-of-type {\n",
       "        vertical-align: middle;\n",
       "    }\n",
       "\n",
       "    .dataframe tbody tr th {\n",
       "        vertical-align: top;\n",
       "    }\n",
       "\n",
       "    .dataframe thead th {\n",
       "        text-align: right;\n",
       "    }\n",
       "</style>\n",
       "<table border=\"1\" class=\"dataframe\">\n",
       "  <thead>\n",
       "    <tr style=\"text-align: right;\">\n",
       "      <th></th>\n",
       "      <th>0</th>\n",
       "    </tr>\n",
       "  </thead>\n",
       "  <tbody>\n",
       "    <tr>\n",
       "      <th>analyst</th>\n",
       "      <td>1130</td>\n",
       "    </tr>\n",
       "    <tr>\n",
       "      <th>data</th>\n",
       "      <td>792</td>\n",
       "    </tr>\n",
       "    <tr>\n",
       "      <th>business</th>\n",
       "      <td>463</td>\n",
       "    </tr>\n",
       "    <tr>\n",
       "      <th>senior</th>\n",
       "      <td>265</td>\n",
       "    </tr>\n",
       "    <tr>\n",
       "      <th>scientist</th>\n",
       "      <td>253</td>\n",
       "    </tr>\n",
       "    <tr>\n",
       "      <th>engineer</th>\n",
       "      <td>120</td>\n",
       "    </tr>\n",
       "    <tr>\n",
       "      <th>learning</th>\n",
       "      <td>98</td>\n",
       "    </tr>\n",
       "    <tr>\n",
       "      <th>machine</th>\n",
       "      <td>88</td>\n",
       "    </tr>\n",
       "    <tr>\n",
       "      <th>sr</th>\n",
       "      <td>82</td>\n",
       "    </tr>\n",
       "    <tr>\n",
       "      <th>remote</th>\n",
       "      <td>75</td>\n",
       "    </tr>\n",
       "    <tr>\n",
       "      <th>analytics</th>\n",
       "      <td>64</td>\n",
       "    </tr>\n",
       "    <tr>\n",
       "      <th>intelligence</th>\n",
       "      <td>58</td>\n",
       "    </tr>\n",
       "    <tr>\n",
       "      <th>manager</th>\n",
       "      <td>54</td>\n",
       "    </tr>\n",
       "    <tr>\n",
       "      <th>ii</th>\n",
       "      <td>52</td>\n",
       "    </tr>\n",
       "    <tr>\n",
       "      <th>lead</th>\n",
       "      <td>46</td>\n",
       "    </tr>\n",
       "    <tr>\n",
       "      <th>science</th>\n",
       "      <td>45</td>\n",
       "    </tr>\n",
       "    <tr>\n",
       "      <th>operations</th>\n",
       "      <td>43</td>\n",
       "    </tr>\n",
       "    <tr>\n",
       "      <th>research</th>\n",
       "      <td>41</td>\n",
       "    </tr>\n",
       "    <tr>\n",
       "      <th>systems</th>\n",
       "      <td>35</td>\n",
       "    </tr>\n",
       "    <tr>\n",
       "      <th>financial</th>\n",
       "      <td>31</td>\n",
       "    </tr>\n",
       "  </tbody>\n",
       "</table>\n",
       "</div>"
      ],
      "text/plain": [
       "                 0\n",
       "analyst       1130\n",
       "data           792\n",
       "business       463\n",
       "senior         265\n",
       "scientist      253\n",
       "engineer       120\n",
       "learning        98\n",
       "machine         88\n",
       "sr              82\n",
       "remote          75\n",
       "analytics       64\n",
       "intelligence    58\n",
       "manager         54\n",
       "ii              52\n",
       "lead            46\n",
       "science         45\n",
       "operations      43\n",
       "research        41\n",
       "systems         35\n",
       "financial       31"
      ]
     },
     "execution_count": 31,
     "metadata": {},
     "output_type": "execute_result"
    }
   ],
   "source": [
    "#show top 20 terms \n",
    "a = tdata.sum(axis=0)\n",
    "pd.DataFrame(a, columns=cvec.get_feature_names()).transpose().sort_values(by=0, ascending=False)[:20]"
   ]
  },
  {
   "cell_type": "code",
   "execution_count": 32,
   "metadata": {
    "ExecuteTime": {
     "end_time": "2022-01-18T08:24:43.587183Z",
     "start_time": "2022-01-18T08:24:43.581214Z"
    }
   },
   "outputs": [],
   "source": [
    "df_feat = dft[['analyst', 'business', 'senior', 'scientist', 'machine', 'sr', 'engineer']]"
   ]
  },
  {
   "cell_type": "markdown",
   "metadata": {},
   "source": [
    "- Decided to use the above terms as I thought they would have the biggest impacts for predicting high or low salary\n",
    "- Chose machine instead of learning as they were mostly used together and machine was higher\n",
    "- Did not include the term data as all jobs were data based"
   ]
  },
  {
   "cell_type": "code",
   "execution_count": 33,
   "metadata": {
    "ExecuteTime": {
     "end_time": "2022-01-18T08:24:52.569944Z",
     "start_time": "2022-01-18T08:24:52.562766Z"
    }
   },
   "outputs": [],
   "source": [
    "#merged df with df_2\n",
    "X = pd.concat([df_2.reset_index(drop=True),df_feat.reset_index(drop=True)], axis=1)"
   ]
  },
  {
   "cell_type": "code",
   "execution_count": 34,
   "metadata": {
    "ExecuteTime": {
     "end_time": "2022-01-18T08:24:54.919238Z",
     "start_time": "2022-01-18T08:24:54.915154Z"
    }
   },
   "outputs": [],
   "source": [
    "y = X.pop('sal_hilo')"
   ]
  },
  {
   "cell_type": "code",
   "execution_count": 35,
   "metadata": {
    "ExecuteTime": {
     "end_time": "2022-01-18T08:24:59.818791Z",
     "start_time": "2022-01-18T08:24:59.801762Z"
    }
   },
   "outputs": [
    {
     "data": {
      "text/html": [
       "<div>\n",
       "<style scoped>\n",
       "    .dataframe tbody tr th:only-of-type {\n",
       "        vertical-align: middle;\n",
       "    }\n",
       "\n",
       "    .dataframe tbody tr th {\n",
       "        vertical-align: top;\n",
       "    }\n",
       "\n",
       "    .dataframe thead th {\n",
       "        text-align: right;\n",
       "    }\n",
       "</style>\n",
       "<table border=\"1\" class=\"dataframe\">\n",
       "  <thead>\n",
       "    <tr style=\"text-align: right;\">\n",
       "      <th></th>\n",
       "      <th>title</th>\n",
       "      <th>company</th>\n",
       "      <th>rate</th>\n",
       "      <th>salary_avg</th>\n",
       "      <th>City_Albany</th>\n",
       "      <th>City_Alexandria</th>\n",
       "      <th>City_Allegheny County</th>\n",
       "      <th>City_Alpharetta</th>\n",
       "      <th>City_Anaheim</th>\n",
       "      <th>City_Annapolis Junction</th>\n",
       "      <th>...</th>\n",
       "      <th>State_ TX</th>\n",
       "      <th>State_ VA</th>\n",
       "      <th>State_ WA</th>\n",
       "      <th>analyst</th>\n",
       "      <th>business</th>\n",
       "      <th>senior</th>\n",
       "      <th>scientist</th>\n",
       "      <th>machine</th>\n",
       "      <th>sr</th>\n",
       "      <th>engineer</th>\n",
       "    </tr>\n",
       "  </thead>\n",
       "  <tbody>\n",
       "    <tr>\n",
       "      <th>0</th>\n",
       "      <td>Data Scientist</td>\n",
       "      <td>Oracle</td>\n",
       "      <td>year</td>\n",
       "      <td>139064.0</td>\n",
       "      <td>0</td>\n",
       "      <td>0</td>\n",
       "      <td>0</td>\n",
       "      <td>0</td>\n",
       "      <td>0</td>\n",
       "      <td>0</td>\n",
       "      <td>...</td>\n",
       "      <td>0</td>\n",
       "      <td>0</td>\n",
       "      <td>0</td>\n",
       "      <td>0</td>\n",
       "      <td>0</td>\n",
       "      <td>0</td>\n",
       "      <td>1</td>\n",
       "      <td>0</td>\n",
       "      <td>0</td>\n",
       "      <td>0</td>\n",
       "    </tr>\n",
       "    <tr>\n",
       "      <th>1</th>\n",
       "      <td>Data Scientist - Nationwide Opportunities</td>\n",
       "      <td>Amazon Web Services, Inc.</td>\n",
       "      <td>year</td>\n",
       "      <td>139650.0</td>\n",
       "      <td>0</td>\n",
       "      <td>0</td>\n",
       "      <td>0</td>\n",
       "      <td>0</td>\n",
       "      <td>0</td>\n",
       "      <td>0</td>\n",
       "      <td>...</td>\n",
       "      <td>0</td>\n",
       "      <td>0</td>\n",
       "      <td>0</td>\n",
       "      <td>0</td>\n",
       "      <td>0</td>\n",
       "      <td>0</td>\n",
       "      <td>1</td>\n",
       "      <td>0</td>\n",
       "      <td>0</td>\n",
       "      <td>0</td>\n",
       "    </tr>\n",
       "    <tr>\n",
       "      <th>2</th>\n",
       "      <td>Senior Data Scientist</td>\n",
       "      <td>Verizon</td>\n",
       "      <td>year</td>\n",
       "      <td>167000.0</td>\n",
       "      <td>0</td>\n",
       "      <td>0</td>\n",
       "      <td>0</td>\n",
       "      <td>0</td>\n",
       "      <td>0</td>\n",
       "      <td>0</td>\n",
       "      <td>...</td>\n",
       "      <td>0</td>\n",
       "      <td>0</td>\n",
       "      <td>0</td>\n",
       "      <td>0</td>\n",
       "      <td>0</td>\n",
       "      <td>1</td>\n",
       "      <td>1</td>\n",
       "      <td>0</td>\n",
       "      <td>0</td>\n",
       "      <td>0</td>\n",
       "    </tr>\n",
       "    <tr>\n",
       "      <th>3</th>\n",
       "      <td>Principal Data Scientist</td>\n",
       "      <td>Verizon</td>\n",
       "      <td>year</td>\n",
       "      <td>157000.0</td>\n",
       "      <td>0</td>\n",
       "      <td>0</td>\n",
       "      <td>0</td>\n",
       "      <td>0</td>\n",
       "      <td>0</td>\n",
       "      <td>0</td>\n",
       "      <td>...</td>\n",
       "      <td>0</td>\n",
       "      <td>0</td>\n",
       "      <td>0</td>\n",
       "      <td>0</td>\n",
       "      <td>0</td>\n",
       "      <td>0</td>\n",
       "      <td>1</td>\n",
       "      <td>0</td>\n",
       "      <td>0</td>\n",
       "      <td>0</td>\n",
       "    </tr>\n",
       "    <tr>\n",
       "      <th>4</th>\n",
       "      <td>Data Scientist</td>\n",
       "      <td>Appcast Inc.</td>\n",
       "      <td>year</td>\n",
       "      <td>80000.0</td>\n",
       "      <td>0</td>\n",
       "      <td>0</td>\n",
       "      <td>0</td>\n",
       "      <td>0</td>\n",
       "      <td>0</td>\n",
       "      <td>0</td>\n",
       "      <td>...</td>\n",
       "      <td>0</td>\n",
       "      <td>0</td>\n",
       "      <td>0</td>\n",
       "      <td>0</td>\n",
       "      <td>0</td>\n",
       "      <td>0</td>\n",
       "      <td>1</td>\n",
       "      <td>0</td>\n",
       "      <td>0</td>\n",
       "      <td>0</td>\n",
       "    </tr>\n",
       "  </tbody>\n",
       "</table>\n",
       "<p>5 rows × 171 columns</p>\n",
       "</div>"
      ],
      "text/plain": [
       "                                       title                    company  rate  \\\n",
       "0                             Data Scientist                     Oracle  year   \n",
       "1  Data Scientist - Nationwide Opportunities  Amazon Web Services, Inc.  year   \n",
       "2                      Senior Data Scientist                    Verizon  year   \n",
       "3                   Principal Data Scientist                    Verizon  year   \n",
       "4                             Data Scientist               Appcast Inc.  year   \n",
       "\n",
       "   salary_avg  City_Albany  City_Alexandria  City_Allegheny County  \\\n",
       "0    139064.0            0                0                      0   \n",
       "1    139650.0            0                0                      0   \n",
       "2    167000.0            0                0                      0   \n",
       "3    157000.0            0                0                      0   \n",
       "4     80000.0            0                0                      0   \n",
       "\n",
       "   City_Alpharetta  City_Anaheim  City_Annapolis Junction  ...  State_ TX  \\\n",
       "0                0             0                        0  ...          0   \n",
       "1                0             0                        0  ...          0   \n",
       "2                0             0                        0  ...          0   \n",
       "3                0             0                        0  ...          0   \n",
       "4                0             0                        0  ...          0   \n",
       "\n",
       "   State_ VA  State_ WA  analyst  business  senior  scientist  machine  sr  \\\n",
       "0          0          0        0         0       0          1        0   0   \n",
       "1          0          0        0         0       0          1        0   0   \n",
       "2          0          0        0         0       1          1        0   0   \n",
       "3          0          0        0         0       0          1        0   0   \n",
       "4          0          0        0         0       0          1        0   0   \n",
       "\n",
       "   engineer  \n",
       "0         0  \n",
       "1         0  \n",
       "2         0  \n",
       "3         0  \n",
       "4         0  \n",
       "\n",
       "[5 rows x 171 columns]"
      ]
     },
     "execution_count": 35,
     "metadata": {},
     "output_type": "execute_result"
    }
   ],
   "source": [
    "X.head()"
   ]
  },
  {
   "cell_type": "code",
   "execution_count": 36,
   "metadata": {
    "ExecuteTime": {
     "end_time": "2022-01-18T08:25:37.686893Z",
     "start_time": "2022-01-18T08:25:37.681154Z"
    }
   },
   "outputs": [],
   "source": [
    "a = X.pop('title')\n",
    "b = X.pop('company')\n",
    "d = X.pop('rate')\n",
    "d = X.pop('salary_avg')"
   ]
  },
  {
   "cell_type": "markdown",
   "metadata": {},
   "source": [
    "#### Model 1: Logistic Regression with location and job title terms:"
   ]
  },
  {
   "cell_type": "code",
   "execution_count": 37,
   "metadata": {
    "ExecuteTime": {
     "end_time": "2022-01-18T08:27:53.480837Z",
     "start_time": "2022-01-18T08:27:53.477499Z"
    }
   },
   "outputs": [],
   "source": [
    "log = LogisticRegression()\n",
    "sc = StandardScaler()\n",
    "kf = StratifiedKFold(n_splits=5)"
   ]
  },
  {
   "cell_type": "code",
   "execution_count": 38,
   "metadata": {
    "ExecuteTime": {
     "end_time": "2022-01-18T08:27:54.574006Z",
     "start_time": "2022-01-18T08:27:54.566633Z"
    }
   },
   "outputs": [],
   "source": [
    "X_train, X_test, y_train, y_test = train_test_split(X, y, test_size=0.2, random_state=42)"
   ]
  },
  {
   "cell_type": "code",
   "execution_count": 39,
   "metadata": {
    "ExecuteTime": {
     "end_time": "2022-01-18T08:27:58.526568Z",
     "start_time": "2022-01-18T08:27:58.507628Z"
    }
   },
   "outputs": [],
   "source": [
    "X_train = pd.DataFrame(sc.fit_transform(X_train),\n",
    "                       columns=X_train.columns)\n",
    "X_test = pd.DataFrame(sc.transform(X_test),\n",
    "                     columns = X_test.columns)"
   ]
  },
  {
   "cell_type": "code",
   "execution_count": 40,
   "metadata": {
    "ExecuteTime": {
     "end_time": "2022-01-18T08:28:04.507072Z",
     "start_time": "2022-01-18T08:28:04.262388Z"
    }
   },
   "outputs": [
    {
     "name": "stdout",
     "output_type": "stream",
     "text": [
      "train score: 0.7660550458715596\n",
      "test score: 0.7431192660550459\n",
      "mean of cross-val score: 0.6903600362668538\n"
     ]
    }
   ],
   "source": [
    "log.fit(X_train, y_train)\n",
    "print('train score:',log.score(X_train, y_train))\n",
    "print('test score:',log.score(X_test, y_test))\n",
    "print('mean of cross-val score:',cross_val_score(log, X_train, y_train, cv=kf).mean())"
   ]
  },
  {
   "cell_type": "code",
   "execution_count": 41,
   "metadata": {
    "ExecuteTime": {
     "end_time": "2022-01-18T08:28:10.101736Z",
     "start_time": "2022-01-18T08:28:10.097400Z"
    }
   },
   "outputs": [],
   "source": [
    "#tuning with grid search:\n",
    "log_params = {'penalty': ['l1', 'l2'],\n",
    "                   'solver': ['liblinear'],\n",
    "                   'C': np.logspace(-4, 4, 9)}\n",
    "gs = GridSearchCV(log, log_params, cv=kf, n_jobs=2, verbose=1)"
   ]
  },
  {
   "cell_type": "code",
   "execution_count": 42,
   "metadata": {
    "ExecuteTime": {
     "end_time": "2022-01-18T08:28:58.044268Z",
     "start_time": "2022-01-18T08:28:42.376447Z"
    }
   },
   "outputs": [
    {
     "name": "stdout",
     "output_type": "stream",
     "text": [
      "Fitting 5 folds for each of 18 candidates, totalling 90 fits\n"
     ]
    },
    {
     "data": {
      "text/plain": [
       "GridSearchCV(cv=StratifiedKFold(n_splits=5, random_state=None, shuffle=False),\n",
       "             estimator=LogisticRegression(), n_jobs=2,\n",
       "             param_grid={'C': array([1.e-04, 1.e-03, 1.e-02, 1.e-01, 1.e+00, 1.e+01, 1.e+02, 1.e+03,\n",
       "       1.e+04]),\n",
       "                         'penalty': ['l1', 'l2'], 'solver': ['liblinear']},\n",
       "             verbose=1)"
      ]
     },
     "execution_count": 42,
     "metadata": {},
     "output_type": "execute_result"
    }
   ],
   "source": [
    "gs.fit(X_train, y_train)"
   ]
  },
  {
   "cell_type": "code",
   "execution_count": 43,
   "metadata": {
    "ExecuteTime": {
     "end_time": "2022-01-18T08:29:13.983345Z",
     "start_time": "2022-01-18T08:29:13.955504Z"
    }
   },
   "outputs": [
    {
     "name": "stdout",
     "output_type": "stream",
     "text": [
      "best parameters: {'C': 0.1, 'penalty': 'l1', 'solver': 'liblinear'}\n",
      "best score: 0.704907724254921\n",
      "train score: 0.764525993883792\n",
      "test score: 0.746177370030581\n"
     ]
    }
   ],
   "source": [
    "print('best parameters:',gs.best_params_)\n",
    "print('best score:',gs.best_score_)\n",
    "best_logreg = gs.best_estimator_\n",
    "print('train score:',best_logreg.score(X_train, y_train))\n",
    "print('test score:',best_logreg.score(X_test, y_test))"
   ]
  },
  {
   "cell_type": "code",
   "execution_count": 46,
   "metadata": {
    "ExecuteTime": {
     "end_time": "2022-01-18T08:29:48.031847Z",
     "start_time": "2022-01-18T08:29:43.961608Z"
    }
   },
   "outputs": [
    {
     "name": "stdout",
     "output_type": "stream",
     "text": [
      "log Bagging CV training score:\t 0.70795238513059\n",
      "log bagging training score:\t 0.7553516819571865\n",
      "log bagging test score:\t 0.7553516819571865\n"
     ]
    }
   ],
   "source": [
    "log_2 = LogisticRegression(C=0.1,\n",
    "                            penalty='l1',\n",
    "                              solver='liblinear')\n",
    "\n",
    "log_bag = BaggingClassifier(base_estimator=log_2,\n",
    "                            max_samples=.6, \n",
    "                            max_features=.95, \n",
    "                            n_estimators=100)\n",
    "\n",
    "print(\"log Bagging CV training score:\\t\", \n",
    "      cross_val_score(log_bag, X_train, y_train,\n",
    "                    cv=kf, n_jobs=-2).mean())\n",
    "\n",
    "log_bag.fit(X_train, y_train)\n",
    "print(\"log bagging training score:\\t\", log_bag.score(X_train, y_train))\n",
    "print(\"log bagging test score:\\t\", log_bag.score(X_test, y_test))"
   ]
  },
  {
   "cell_type": "code",
   "execution_count": 47,
   "metadata": {
    "ExecuteTime": {
     "end_time": "2022-01-18T08:34:23.184304Z",
     "start_time": "2022-01-18T08:30:02.416302Z"
    }
   },
   "outputs": [
    {
     "data": {
      "text/plain": [
       "BaggingClassifier(base_estimator=LogisticRegression(C=0.1, penalty='l1',\n",
       "                                                    solver='liblinear'),\n",
       "                  max_features=135, max_samples=0.8, n_estimators=100)"
      ]
     },
     "execution_count": 47,
     "metadata": {},
     "output_type": "execute_result"
    }
   ],
   "source": [
    "#grid search to tune the bagging classifier\n",
    "model = BaggingClassifier(base_estimator=log_2, n_estimators=100)\n",
    "params = {'max_samples': np.linspace(0.8, 1.0, 3),\n",
    "          'max_features': range(int(3/4.*X.shape[1]), X.shape[1]+1)}\n",
    "\n",
    "log_bag_grid = GridSearchCV(model, param_grid=params, cv=5, n_jobs=-2)\n",
    "log_bag_grid.fit(X_train, y_train)\n",
    "log_bag_grid.best_estimator_"
   ]
  },
  {
   "cell_type": "code",
   "execution_count": 49,
   "metadata": {
    "ExecuteTime": {
     "end_time": "2022-01-18T08:34:52.025790Z",
     "start_time": "2022-01-18T08:34:51.907979Z"
    }
   },
   "outputs": [
    {
     "name": "stdout",
     "output_type": "stream",
     "text": [
      "train score: 0.7584097859327217\n",
      "test score: 0.7553516819571865\n",
      "best cv score: 0.7186598812553011\n"
     ]
    }
   ],
   "source": [
    "print('train score:',log_bag_grid.score(X_train, y_train))\n",
    "print('test score:',log_bag_grid.score(X_test, y_test))\n",
    "print('best cv score:',log_bag_grid.best_score_)"
   ]
  },
  {
   "cell_type": "code",
   "execution_count": 52,
   "metadata": {
    "ExecuteTime": {
     "end_time": "2022-01-18T08:40:11.208349Z",
     "start_time": "2022-01-18T08:40:10.285572Z"
    }
   },
   "outputs": [
    {
     "data": {
      "text/plain": [
       "BaggingClassifier(base_estimator=LogisticRegression(C=0.1, penalty='l1',\n",
       "                                                    solver='liblinear'),\n",
       "                  max_features=135, max_samples=0.8, n_estimators=100)"
      ]
     },
     "execution_count": 52,
     "metadata": {},
     "output_type": "execute_result"
    }
   ],
   "source": [
    "log_bag = BaggingClassifier(base_estimator=log_2, n_estimators=100,\n",
    "                           max_features=135, max_samples=0.8)\n",
    "\n",
    "log_bag.fit(X_train, y_train)"
   ]
  },
  {
   "cell_type": "markdown",
   "metadata": {},
   "source": [
    "- Applying a logistic regression with the lcoation and title terms gave a cross-validation score of 0.690\n",
    "- Tuning the model with the grid search improved the score to 0.705, which was further improved by adding a bagging classifier to 0.708 and finally after using grid search again to tune the bagging classifier the score was 0.719"
   ]
  },
  {
   "cell_type": "code",
   "execution_count": 53,
   "metadata": {
    "ExecuteTime": {
     "end_time": "2022-01-18T08:40:21.843845Z",
     "start_time": "2022-01-18T08:40:21.820586Z"
    }
   },
   "outputs": [],
   "source": [
    "feat_1 =pd.DataFrame(list(zip(X.columns, log.coef_[0])), columns=['feature', 'coef']).sort_values(by='coef')[157:168]\n",
    "feat_2 =pd.DataFrame(list(zip(X.columns, log.coef_[0])), columns=['feature', 'coef']).sort_values(by='coef')[:10]\n",
    "feat_im = pd.concat([feat_1.reset_index(drop=True), feat_2.reset_index(drop=True)], axis=0)"
   ]
  },
  {
   "cell_type": "code",
   "execution_count": 54,
   "metadata": {
    "ExecuteTime": {
     "end_time": "2022-01-18T08:40:23.055936Z",
     "start_time": "2022-01-18T08:40:22.837575Z"
    }
   },
   "outputs": [
    {
     "data": {
      "image/png": "[encoded data removed]",
      "text/plain": [
       "<Figure size 576x864 with 1 Axes>"
      ]
     },
     "metadata": {
      "needs_background": "light"
     },
     "output_type": "display_data"
    }
   ],
   "source": [
    "#The positive scores indicate a feature that predicts class =low, \n",
    "#whereas the negative scores indicate a feature that predicts class  =high\n",
    "feat_im.plot(kind='barh', x='feature', y='coef', figsize=(8, 12))\n",
    "plt.show()"
   ]
  },
  {
   "cell_type": "markdown",
   "metadata": {},
   "source": [
    "- The strongest coefficients predicting a low class were 'analyst', the cities of Herndon, San Francisco and Los Angeles\n",
    "- The strongest coefs predicting a high class were the states of VA and CA, and the terms scientist, senior and business\n",
    "- This indicates the terms analyst and scientist are more often associated with a low and high salary, respectively. This is interesting as more data analyst roles are becoming basically the same as a data scientist, however companies can offer lower pay for similar work "
   ]
  },
  {
   "cell_type": "markdown",
   "metadata": {},
   "source": [
    "#### Model 2: Decision Tree with location and job title terms:"
   ]
  },
  {
   "cell_type": "code",
   "execution_count": 55,
   "metadata": {
    "ExecuteTime": {
     "end_time": "2022-01-18T08:44:54.554862Z",
     "start_time": "2022-01-18T08:44:54.480486Z"
    }
   },
   "outputs": [
    {
     "name": "stdout",
     "output_type": "stream",
     "text": [
      "train score: 0.6819571865443425\n",
      "test score: 0.7339449541284404\n",
      "cross val score: 0.658997981925068\n"
     ]
    }
   ],
   "source": [
    "classifier = DecisionTreeClassifier(criterion='gini',\n",
    "                                    max_depth=2, \n",
    "                                    random_state=1)\n",
    "classifier.fit(X_train, y_train)\n",
    "print('train score:',classifier.score(X_train, y_train))\n",
    "print('test score:', classifier.score(X_test, y_test))\n",
    "print('cross val score:',cross_val_score(classifier, X_train, y_train, cv=kf).mean())"
   ]
  },
  {
   "cell_type": "code",
   "execution_count": 56,
   "metadata": {
    "ExecuteTime": {
     "end_time": "2022-01-18T08:45:58.697737Z",
     "start_time": "2022-01-18T08:44:59.045481Z"
    }
   },
   "outputs": [
    {
     "name": "stdout",
     "output_type": "stream",
     "text": [
      "Fitting 5 folds for each of 3388 candidates, totalling 16940 fits\n"
     ]
    },
    {
     "data": {
      "text/plain": [
       "GridSearchCV(cv=StratifiedKFold(n_splits=5, random_state=None, shuffle=False),\n",
       "             estimator=DecisionTreeClassifier(max_depth=2, random_state=1),\n",
       "             n_jobs=2,\n",
       "             param_grid={'ccp_alpha': [0, 0.001, 0.005, 0.01],\n",
       "                         'max_depth': [1, 2, 3, 4, 5, 6, 7, 8, 9, 10, None],\n",
       "                         'max_features': [None, 1, 2, 3, 4, 5, 6],\n",
       "                         'min_samples_split': [2, 3, 4, 5, 10, 15, 20, 25, 30,\n",
       "                                               40, 50]},\n",
       "             verbose=1)"
      ]
     },
     "execution_count": 56,
     "metadata": {},
     "output_type": "execute_result"
    }
   ],
   "source": [
    "#tune with grid search \n",
    "tree_params = {\n",
    "    'max_depth': list(range(1, 11))+[None],\n",
    "    'max_features': [None, 1, 2, 3,4,5,6],\n",
    "    'min_samples_split': [2, 3, 4, 5, 10, 15, 20, 25, 30, 40, 50],\n",
    "    'ccp_alpha': [0, 0.001, 0.005, 0.01]\n",
    "}\n",
    "tree_gs = GridSearchCV(classifier, tree_params, cv=kf, n_jobs=2, verbose=1)\n",
    "tree_gs.fit(X_train, y_train)"
   ]
  },
  {
   "cell_type": "code",
   "execution_count": 57,
   "metadata": {
    "ExecuteTime": {
     "end_time": "2022-01-18T08:46:06.264084Z",
     "start_time": "2022-01-18T08:46:06.247796Z"
    }
   },
   "outputs": [
    {
     "name": "stdout",
     "output_type": "stream",
     "text": [
      "best parameters: {'ccp_alpha': 0, 'max_depth': None, 'max_features': None, 'min_samples_split': 15}\n",
      "best cv score: 0.7110204439764851\n",
      "train score: 0.8402140672782875\n",
      "test score: 0.7125382262996942\n"
     ]
    }
   ],
   "source": [
    "print('best parameters:',tree_gs.best_params_)\n",
    "print('best cv score:',tree_gs.best_score_)\n",
    "best_tree = tree_gs.best_estimator_\n",
    "print('train score:',best_tree.score(X_train, y_train))\n",
    "print('test score:',best_tree.score(X_test, y_test))"
   ]
  },
  {
   "cell_type": "code",
   "execution_count": 59,
   "metadata": {
    "ExecuteTime": {
     "end_time": "2022-01-18T08:46:43.360601Z",
     "start_time": "2022-01-18T08:46:39.895251Z"
    }
   },
   "outputs": [
    {
     "name": "stdout",
     "output_type": "stream",
     "text": [
      "Tree Bagging CV training score:\t 0.712547161533737\n",
      "Tree bagging training score:\t 0.8042813455657493\n",
      "Tree bagging test score:\t 0.709480122324159\n"
     ]
    }
   ],
   "source": [
    "#adding a bagging classifier :\n",
    "tree = DecisionTreeClassifier(criterion='gini',\n",
    "                            max_depth=None,\n",
    "                              max_features=None,\n",
    "                              min_samples_split= 15,\n",
    "                              ccp_alpha = 0,\n",
    "                              random_state=42)\n",
    "\n",
    "tree_bag = BaggingClassifier(base_estimator=tree,\n",
    "                            max_samples=.6, \n",
    "                            max_features=.95, \n",
    "                            n_estimators=100)\n",
    "\n",
    "print(\"Tree Bagging CV training score:\\t\", \n",
    "      cross_val_score(tree_bag, X_train, y_train,\n",
    "                    cv=kf, n_jobs=-2).mean())\n",
    "\n",
    "tree_bag.fit(X_train, y_train)\n",
    "print(\"Tree bagging training score:\\t\", tree_bag.score(X_train, y_train))\n",
    "print(\"Tree bagging test score:\\t\", tree_bag.score(X_test, y_test))"
   ]
  },
  {
   "cell_type": "code",
   "execution_count": 60,
   "metadata": {
    "ExecuteTime": {
     "end_time": "2022-01-18T08:50:00.244844Z",
     "start_time": "2022-01-18T08:47:23.893732Z"
    }
   },
   "outputs": [
    {
     "data": {
      "text/plain": [
       "BaggingClassifier(base_estimator=DecisionTreeClassifier(ccp_alpha=0,\n",
       "                                                        min_samples_split=15,\n",
       "                                                        random_state=42),\n",
       "                  max_features=156, max_samples=0.9, n_estimators=100)"
      ]
     },
     "execution_count": 60,
     "metadata": {},
     "output_type": "execute_result"
    }
   ],
   "source": [
    "# using grid search on bagging classifier:\n",
    "model = BaggingClassifier(base_estimator=tree, n_estimators=100)\n",
    "params = {'max_samples': np.linspace(0.8, 1.0, 3),\n",
    "          'max_features': range(int(3/4.*X.shape[1]), X.shape[1]+1)}\n",
    "\n",
    "tree_bag_grid = GridSearchCV(model, param_grid=params, cv=5, n_jobs=-2)\n",
    "tree_bag_grid.fit(X_train, y_train)\n",
    "tree_bag_grid.best_estimator_"
   ]
  },
  {
   "cell_type": "code",
   "execution_count": 62,
   "metadata": {
    "ExecuteTime": {
     "end_time": "2022-01-18T08:51:59.925966Z",
     "start_time": "2022-01-18T08:51:59.765729Z"
    }
   },
   "outputs": [
    {
     "name": "stdout",
     "output_type": "stream",
     "text": [
      "train score: 0.8356269113149847\n",
      "test score: 0.7125382262996942\n",
      "best cv score: 0.7156093708870754\n"
     ]
    }
   ],
   "source": [
    "print('train score:',tree_bag_grid.score(X_train, y_train))\n",
    "print('test score:',tree_bag_grid.score(X_test, y_test))\n",
    "print('best cv score:',tree_bag_grid.best_score_)"
   ]
  },
  {
   "cell_type": "code",
   "execution_count": 65,
   "metadata": {
    "ExecuteTime": {
     "end_time": "2022-01-18T08:58:19.382662Z",
     "start_time": "2022-01-18T08:58:18.768722Z"
    }
   },
   "outputs": [
    {
     "data": {
      "text/plain": [
       "BaggingClassifier(base_estimator=DecisionTreeClassifier(ccp_alpha=0,\n",
       "                                                        min_samples_split=15,\n",
       "                                                        random_state=42),\n",
       "                  max_features=156, max_samples=0.9, n_estimators=100)"
      ]
     },
     "execution_count": 65,
     "metadata": {},
     "output_type": "execute_result"
    }
   ],
   "source": [
    "tree_bag = BaggingClassifier(base_estimator=tree, n_estimators=100,\n",
    "                            max_features=156, max_samples=0.9)\n",
    "tree_bag.fit(X_train, y_train)\n"
   ]
  },
  {
   "cell_type": "markdown",
   "metadata": {},
   "source": [
    "- Applying a decision tree with the location and title terms gave a cross-validation score of 0.659\n",
    "- Tuning the model with the grid search improved the score to 0.711, which was further improved by adding a bagging classifier to 0.713 and finally after using grid search again to tune the bagging classifier the score was 0.716\n",
    "- The logistic regression model with tuned baggin classifier was again slighter higher at 0.719"
   ]
  },
  {
   "cell_type": "code",
   "execution_count": 63,
   "metadata": {
    "ExecuteTime": {
     "end_time": "2022-01-18T08:52:10.225705Z",
     "start_time": "2022-01-18T08:52:10.212341Z"
    }
   },
   "outputs": [
    {
     "data": {
      "text/html": [
       "<div>\n",
       "<style scoped>\n",
       "    .dataframe tbody tr th:only-of-type {\n",
       "        vertical-align: middle;\n",
       "    }\n",
       "\n",
       "    .dataframe tbody tr th {\n",
       "        vertical-align: top;\n",
       "    }\n",
       "\n",
       "    .dataframe thead th {\n",
       "        text-align: right;\n",
       "    }\n",
       "</style>\n",
       "<table border=\"1\" class=\"dataframe\">\n",
       "  <thead>\n",
       "    <tr style=\"text-align: right;\">\n",
       "      <th></th>\n",
       "      <th>feature</th>\n",
       "      <th>importance</th>\n",
       "    </tr>\n",
       "  </thead>\n",
       "  <tbody>\n",
       "    <tr>\n",
       "      <th>160</th>\n",
       "      <td>analyst</td>\n",
       "      <td>0.217694</td>\n",
       "    </tr>\n",
       "    <tr>\n",
       "      <th>162</th>\n",
       "      <td>senior</td>\n",
       "      <td>0.049886</td>\n",
       "    </tr>\n",
       "    <tr>\n",
       "      <th>161</th>\n",
       "      <td>business</td>\n",
       "      <td>0.047193</td>\n",
       "    </tr>\n",
       "    <tr>\n",
       "      <th>163</th>\n",
       "      <td>scientist</td>\n",
       "      <td>0.032321</td>\n",
       "    </tr>\n",
       "    <tr>\n",
       "      <th>85</th>\n",
       "      <td>City_New York</td>\n",
       "      <td>0.029297</td>\n",
       "    </tr>\n",
       "    <tr>\n",
       "      <th>158</th>\n",
       "      <td>State_ VA</td>\n",
       "      <td>0.027961</td>\n",
       "    </tr>\n",
       "    <tr>\n",
       "      <th>165</th>\n",
       "      <td>sr</td>\n",
       "      <td>0.027886</td>\n",
       "    </tr>\n",
       "    <tr>\n",
       "      <th>166</th>\n",
       "      <td>engineer</td>\n",
       "      <td>0.026986</td>\n",
       "    </tr>\n",
       "    <tr>\n",
       "      <th>58</th>\n",
       "      <td>City_Irving</td>\n",
       "      <td>0.024912</td>\n",
       "    </tr>\n",
       "    <tr>\n",
       "      <th>149</th>\n",
       "      <td>State_ IL</td>\n",
       "      <td>0.018350</td>\n",
       "    </tr>\n",
       "    <tr>\n",
       "      <th>144</th>\n",
       "      <td>State_ CO</td>\n",
       "      <td>0.018250</td>\n",
       "    </tr>\n",
       "    <tr>\n",
       "      <th>73</th>\n",
       "      <td>City_Los Angeles</td>\n",
       "      <td>0.016393</td>\n",
       "    </tr>\n",
       "    <tr>\n",
       "      <th>143</th>\n",
       "      <td>State_ CA</td>\n",
       "      <td>0.013361</td>\n",
       "    </tr>\n",
       "    <tr>\n",
       "      <th>28</th>\n",
       "      <td>City_Chicago</td>\n",
       "      <td>0.012193</td>\n",
       "    </tr>\n",
       "    <tr>\n",
       "      <th>148</th>\n",
       "      <td>State_ GA</td>\n",
       "      <td>0.012182</td>\n",
       "    </tr>\n",
       "    <tr>\n",
       "      <th>15</th>\n",
       "      <td>City_Boston</td>\n",
       "      <td>0.011805</td>\n",
       "    </tr>\n",
       "    <tr>\n",
       "      <th>10</th>\n",
       "      <td>City_Austin</td>\n",
       "      <td>0.011618</td>\n",
       "    </tr>\n",
       "    <tr>\n",
       "      <th>100</th>\n",
       "      <td>City_Portland</td>\n",
       "      <td>0.010801</td>\n",
       "    </tr>\n",
       "    <tr>\n",
       "      <th>7</th>\n",
       "      <td>City_Atlanta</td>\n",
       "      <td>0.010123</td>\n",
       "    </tr>\n",
       "    <tr>\n",
       "      <th>147</th>\n",
       "      <td>State_ FL</td>\n",
       "      <td>0.009330</td>\n",
       "    </tr>\n",
       "  </tbody>\n",
       "</table>\n",
       "</div>"
      ],
      "text/plain": [
       "              feature  importance\n",
       "160           analyst    0.217694\n",
       "162            senior    0.049886\n",
       "161          business    0.047193\n",
       "163         scientist    0.032321\n",
       "85      City_New York    0.029297\n",
       "158         State_ VA    0.027961\n",
       "165                sr    0.027886\n",
       "166          engineer    0.026986\n",
       "58        City_Irving    0.024912\n",
       "149         State_ IL    0.018350\n",
       "144         State_ CO    0.018250\n",
       "73   City_Los Angeles    0.016393\n",
       "143         State_ CA    0.013361\n",
       "28       City_Chicago    0.012193\n",
       "148         State_ GA    0.012182\n",
       "15        City_Boston    0.011805\n",
       "10        City_Austin    0.011618\n",
       "100     City_Portland    0.010801\n",
       "7        City_Atlanta    0.010123\n",
       "147         State_ FL    0.009330"
      ]
     },
     "execution_count": 63,
     "metadata": {},
     "output_type": "execute_result"
    }
   ],
   "source": [
    "fi = pd.DataFrame({\n",
    "    'feature': X.columns,\n",
    "    'importance': best_tree.feature_importances_\n",
    "})\n",
    "\n",
    "fi.sort_values('importance', ascending=False, inplace=True)\n",
    "fi[:20]"
   ]
  },
  {
   "cell_type": "markdown",
   "metadata": {},
   "source": [
    "- For this decision tree classifier the title terms were most important in terms of branching in the decision tree:\n",
    " - analyst, senior, business and scientist were most important, followed by the city of new york and state VA"
   ]
  },
  {
   "cell_type": "markdown",
   "metadata": {
    "focus": false,
    "id": "4fb29de2-5b98-474c-a4ad-5170b72b9aea"
   },
   "source": [
    "### Model evaluation:\n",
    "\n",
    "Your boss would rather tell a client incorrectly that they would get a lower salary job than tell a client incorrectly that they would get a high salary job. Adjust one of your models to ease his mind, and explain what it is doing and any tradeoffs.\n",
    "\n",
    "\n",
    "- Use cross-validation to evaluate your models.\n",
    "- Evaluate the accuracy, AUC, precision and recall of the models.\n",
    "- Plot the ROC and precision-recall curves for at least one of your models."
   ]
  },
  {
   "cell_type": "code",
   "execution_count": 66,
   "metadata": {
    "ExecuteTime": {
     "end_time": "2022-01-18T08:59:04.121745Z",
     "start_time": "2022-01-18T08:59:04.118379Z"
    }
   },
   "outputs": [],
   "source": [
    "from sklearn.metrics import classification_report, confusion_matrix,accuracy_score, roc_auc_score, average_precision_score, plot_roc_curve, plot_precision_recall_curve"
   ]
  },
  {
   "cell_type": "markdown",
   "metadata": {},
   "source": [
    "#### Accuracy, AUC, precision and recall of the logistic regression model:"
   ]
  },
  {
   "cell_type": "markdown",
   "metadata": {},
   "source": [
    "Reminders:\n",
    "- A precision score of 1 indicates that the classifier never mistakenly classified the current class as another class. precision score of 0 would mean that the classifier misclassified every instance of the current class\n",
    " - Precision = TP / (TP + FP)\n",
    "\n",
    "- A recall of 1 indicates that the classifier correctly predicted all observations of the class. 0 means the classifier predicted all observations of the current class incorrectly\n",
    " - Recall = TP / (TP + FN)"
   ]
  },
  {
   "cell_type": "code",
   "execution_count": 84,
   "metadata": {
    "ExecuteTime": {
     "end_time": "2022-01-18T09:10:07.572171Z",
     "start_time": "2022-01-18T09:10:07.357702Z"
    }
   },
   "outputs": [
    {
     "name": "stdout",
     "output_type": "stream",
     "text": [
      "0.7584097859327217\n",
      "              precision    recall  f1-score   support\n",
      "\n",
      "        high     0.8030    0.7111    0.7543       682\n",
      "         low     0.7202    0.8099    0.7624       626\n",
      "\n",
      "    accuracy                         0.7584      1308\n",
      "   macro avg     0.7616    0.7605    0.7583      1308\n",
      "weighted avg     0.7633    0.7584    0.7582      1308\n",
      "\n"
     ]
    }
   ],
   "source": [
    "predictions_log = log_bag.predict(X_train)\n",
    "print(accuracy_score(y_train, predictions_log))\n",
    "print(classification_report(y_train, predictions_log, digits=4))"
   ]
  },
  {
   "cell_type": "markdown",
   "metadata": {},
   "source": [
    "- The log model is accuratly classifying 76% of the low and high classes \n",
    "- The log model has a lower recall score for the low classes, therefore it would not be the most suited if you would rather tell a client incorrectly that they would get a lower salary job than tell a client incorrectly that they would get a high salary job"
   ]
  },
  {
   "cell_type": "code",
   "execution_count": 83,
   "metadata": {
    "ExecuteTime": {
     "end_time": "2022-01-18T09:07:18.999974Z",
     "start_time": "2022-01-18T09:07:18.642521Z"
    }
   },
   "outputs": [
    {
     "data": {
      "image/png": "[encoded data removed]",
      "text/plain": [
       "<Figure size 432x288 with 1 Axes>"
      ]
     },
     "metadata": {
      "needs_background": "light"
     },
     "output_type": "display_data"
    }
   ],
   "source": [
    "# comparing the ROC curves for both the log model and tree model \n",
    "\n",
    "#blue = log model\n",
    "#orange = tree model  \n",
    "classifiers = [log_bag, tree_bag]\n",
    "ax = plt.gca()\n",
    "for i in classifiers:\n",
    "    plot_roc_curve(i, X_train, y_train, ax=ax)"
   ]
  },
  {
   "cell_type": "markdown",
   "metadata": {},
   "source": [
    "- As the decision tree model has a higher AUC, this is the model that I would use to classify the high and low classes"
   ]
  },
  {
   "cell_type": "markdown",
   "metadata": {},
   "source": [
    "#### #### Accuracy, AUC, precision and recall of the decision tree model"
   ]
  },
  {
   "cell_type": "code",
   "execution_count": 79,
   "metadata": {
    "ExecuteTime": {
     "end_time": "2022-01-18T09:05:03.130426Z",
     "start_time": "2022-01-18T09:05:02.998980Z"
    }
   },
   "outputs": [],
   "source": [
    "predictions_tree = tree_bag.predict(X_train)"
   ]
  },
  {
   "cell_type": "code",
   "execution_count": 80,
   "metadata": {
    "ExecuteTime": {
     "end_time": "2022-01-18T09:05:06.937197Z",
     "start_time": "2022-01-18T09:05:06.928611Z"
    }
   },
   "outputs": [
    {
     "name": "stdout",
     "output_type": "stream",
     "text": [
      "0.8340978593272171\n"
     ]
    }
   ],
   "source": [
    "print(accuracy_score(y_train, predictions_tree))"
   ]
  },
  {
   "cell_type": "markdown",
   "metadata": {},
   "source": [
    "- The tree model shows a high accuracy: 83% of high and low classes are correctly classified "
   ]
  },
  {
   "cell_type": "code",
   "execution_count": 85,
   "metadata": {
    "ExecuteTime": {
     "end_time": "2022-01-18T09:12:36.682756Z",
     "start_time": "2022-01-18T09:12:36.624583Z"
    }
   },
   "outputs": [
    {
     "name": "stdout",
     "output_type": "stream",
     "text": [
      "              precision    recall  f1-score   support\n",
      "\n",
      "        high     0.8517    0.8255    0.8384       682\n",
      "         low     0.8161    0.8435    0.8295       626\n",
      "\n",
      "    accuracy                         0.8341      1308\n",
      "   macro avg     0.8339    0.8345    0.8340      1308\n",
      "weighted avg     0.8347    0.8341    0.8342      1308\n",
      "\n"
     ]
    }
   ],
   "source": [
    "print(classification_report(y_train, predictions_tree, digits=4))"
   ]
  },
  {
   "cell_type": "markdown",
   "metadata": {},
   "source": [
    "- The precision and recall scores are higher for the decision tree compared to the log model, this further supports the decision tree model over the logistic regression model \n",
    "- the precision and recall scores for the high class are currently higher than the low class, therefore we would need to adjust this if we wanted to classify a high salary as low, instead of low as high"
   ]
  },
  {
   "cell_type": "code",
   "execution_count": 82,
   "metadata": {
    "ExecuteTime": {
     "end_time": "2022-01-18T09:05:20.976240Z",
     "start_time": "2022-01-18T09:05:20.678697Z"
    }
   },
   "outputs": [
    {
     "data": {
      "image/png": "[encoded data removed]",
      "text/plain": [
       "<Figure size 432x432 with 1 Axes>"
      ]
     },
     "metadata": {
      "needs_background": "light"
     },
     "output_type": "display_data"
    }
   ],
   "source": [
    "fig, ax = plt.subplots(figsize=(6, 6))\n",
    "plot_roc_curve(tree_bag, X_train, y_train, ax=ax)\n",
    "ax.plot([0, 1], [0, 1], 'k--', linewidth=4)\n",
    "plt.title('ROC curve')\n",
    "plt.show()"
   ]
  },
  {
   "cell_type": "code",
   "execution_count": 131,
   "metadata": {
    "ExecuteTime": {
     "end_time": "2022-01-17T20:13:54.423711Z",
     "start_time": "2022-01-17T20:13:54.217414Z"
    }
   },
   "outputs": [
    {
     "data": {
      "image/png": "[encoded data removed]",
      "text/plain": [
       "<Figure size 432x432 with 1 Axes>"
      ]
     },
     "metadata": {
      "needs_background": "light"
     },
     "output_type": "display_data"
    }
   ],
   "source": [
    "plt.fig, ax = plt.subplots(figsize=(6, 6))\n",
    "plot_precision_recall_curve(tree_bag, X_train, y_train, ax=ax)\n",
    "plt.title('Precision-Recall curve')\n",
    "plt.show()"
   ]
  },
  {
   "cell_type": "markdown",
   "metadata": {},
   "source": [
    "- Evaulating the above ROC and precision-recall curves of the decision tree model gives an indication of what threshold would be suitable to classify a high salary as low, rather than the other way around\n",
    "- A threshold of 0.2-0.4 appears to be suitable: this would result in a higher number of false positives (ie high salaries incorrectly classified as low) but this would lead to a lower number of true negatives (high salaries correctly classified as high)\n"
   ]
  }
 ],
 "metadata": {
  "kernelspec": {
   "display_name": "Python 3 (ipykernel)",
   "language": "python",
   "name": "python3"
  },
  "language_info": {
   "codemirror_mode": {
    "name": "ipython",
    "version": 3
   },
   "file_extension": ".py",
   "mimetype": "text/x-python",
   "name": "python",
   "nbconvert_exporter": "python",
   "pygments_lexer": "ipython3",
   "version": "3.9.7"
  },
  "toc": {
   "base_numbering": 1,
   "nav_menu": {},
   "number_sections": false,
   "sideBar": true,
   "skip_h1_title": true,
   "title_cell": "Table of Contents",
   "title_sidebar": "Contents",
   "toc_cell": false,
   "toc_position": {},
   "toc_section_display": "block",
   "toc_window_display": false
  }
 },
 "nbformat": 4,
 "nbformat_minor": 1
}
